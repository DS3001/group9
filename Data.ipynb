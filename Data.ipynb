{
  "nbformat": 4,
  "nbformat_minor": 0,
  "metadata": {
    "colab": {
      "provenance": [],
      "authorship_tag": "ABX9TyMd+OPJ+c97FJ68gIJRTJsK",
      "include_colab_link": true
    },
    "kernelspec": {
      "name": "python3",
      "display_name": "Python 3"
    },
    "language_info": {
      "name": "python"
    }
  },
  "cells": [
    {
      "cell_type": "markdown",
      "metadata": {
        "id": "view-in-github",
        "colab_type": "text"
      },
      "source": [
        "<a href=\"https://colab.research.google.com/github/DS3001/group9/blob/main/Data.ipynb\" target=\"_parent\"><img src=\"https://colab.research.google.com/assets/colab-badge.svg\" alt=\"Open In Colab\"/></a>"
      ]
    },
    {
      "cell_type": "markdown",
      "source": [
        "# Finding Relevant Data"
      ],
      "metadata": {
        "id": "1vgAMgSb4CLm"
      }
    },
    {
      "cell_type": "markdown",
      "source": [
        "We began our project with general interest in voting preferences. We explored race, sex, college degree, and income variables with the intention to find correlations with voting preferences in particular elections. We were initially most interested in the 2016 election because of its recency and cultural significance. Surprisingly, we found the data surrounding the election relatively messy and poor. We were faced with our first major decision: would it be better to focus on a more relevant election with poorer data or focus on an older election with more accurate data? We decided to focus on the latter, specifically analyzing how demographics affected voter preferences in the elections of 1980 and 1984. Though the 2016 election was initially more interesting to us, we decided that it would be best to make our conclusions based on the most sound data available."
      ],
      "metadata": {
        "id": "sDwAnqZI4OaX"
      }
    },
    {
      "cell_type": "markdown",
      "source": [
        "# 1980 Election\n"
      ],
      "metadata": {
        "id": "2qC0CiF64clZ"
      }
    },
    {
      "cell_type": "markdown",
      "source": [
        "We made a few key decisions in our data cleaning for the 1980 presidential election. We turned the ‘pres80’ variable (asking respondents who they voted for in the 1980 election) into a binary variable, removing responses indicating votes for other candidates or not voting at all. We wanted to only focus on votes for Reagan and Carter. For the income variables, we replaced each income range with the mean as its numeric value. Replacing each income range with its mean value eliminated some income variation but improved the understandability of our analysis. These decisions were challenging. In our effort to clean the data and make strong predictions, we had to sacrifice some relevant data. For example, John B. Anderson ran in the 1980 election and was included in the original dataset. Anderson campaigned for cutting social security taxes, which may have had a strong correlation to income. Our need for a binary prediction variable forced us to exclude Anderson from our regressions. After other minor data cleaning (including removing null values and coercing the age variable to numeric), we preprocessed the data for kNN, max-min normalized the data, trained, fit, and ran the model. We determined an optimal k value of 63 to minimize SSE. Our specific steps to determine this k value are discussed in the 'Results' section. Our first regression model was general: how did distribution of voters for Reagan and Carter vary based on income and age? We found a fairly strong predictive relationship but also were interested in exploring something more specific. For that reason, we modeled the 1980 election by the ‘racseg’ variable.\n"
      ],
      "metadata": {
        "id": "D6jfwUmKNHso"
      }
    },
    {
      "cell_type": "markdown",
      "source": [
        "# 1980 Election by 'racseg'\n",
        "\n",
        "‘Racseg’ asked respondents whether they believed whites should have a right to segregate neighborhoods. We found 'racseg' variable interesting because it snapshots racist attitudes in 1980 in the context of a broader cultural trend away from racism following the civil rights movement. The 'raceseg' variable posed another interesting data cleaning challenge. The survey question allowed respondents four responses: \"agree strongly,\" \"agree slightly,\" \"disagree slightly,\" and \"disagree strongly.\" We chose to convert all responses to either \"agree\" or \"disagree\" for sake of simplicity in our models. We then split the data into two data frames: one dataframe with respondents that believed whites had the right to segregate neighborhoods (agree), and one that believed whites did not have the right to segregate neighborhoods (disagree). We created scatterplots and crosstabbed these analyses to find relationships between our variables. These analyses clearly demonstrated distinct distributions of voting patterns based on age and income when observations were sub-divided by ‘racseg.’ We found clear predictions when running a kNN regression for both data frames. These will be discussed further in the 'Results' section."
      ],
      "metadata": {
        "id": "_jtDRLuobslu"
      }
    },
    {
      "cell_type": "markdown",
      "source": [
        "# 1984 Election"
      ],
      "metadata": {
        "id": "QVyco7KHOLNp"
      }
    },
    {
      "cell_type": "markdown",
      "source": [
        "Our cleaning, regression, and visualization procedures for the 1984 election were largely similar to our procedures for the 1980 election. We converted ‘pres84’ into a binary variable (as we were only concerned with votes for Reagan or Mondale) and replaced each income range with the mean of its numeric value. We then coerced the age variable into numeric values. We found an optimal k value of 65, slightly higher than the k value for the 1980 election. Our regression depicted the distribution of voters for Reagan and Mondale based on income and age-- directly comparable to our regression for the 1980 election. The cultural context and results of this election were very different from the 1980 election and affected our regression accordingly. We employed different visualization techniques to interpret the 1984 election, which will be further discussed in the 'Results' section."
      ],
      "metadata": {
        "id": "l4r5H6NHOOlk"
      }
    },
    {
      "cell_type": "markdown",
      "source": [
        "# 1984 Election by 'racseg'\n",
        "We followed the same procedures when modeling the 1984 election by 'racseg' as we did when modeling the 1980 election by 'racseg.' We ensured each data frame was only filled with 'agree' or 'disagree' data, crosstabbed and created scatterplots for the data, and used a kNN regression for each data frame. The 'racseg' variable had far less \"do not know/can not choose\" responses compared to 1980, likely indicating that respondents felt more strongly about the question. Less missing values in the 'racseg' variable also allowed us to make stronger predictions."
      ],
      "metadata": {
        "id": "hdhVh7bsG-Yc"
      }
    }
  ]
}