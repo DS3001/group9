{
  "nbformat": 4,
  "nbformat_minor": 0,
  "metadata": {
    "colab": {
      "provenance": [],
      "authorship_tag": "ABX9TyMUwVX6zMJFfKtQLSdHywUT",
      "include_colab_link": true
    },
    "kernelspec": {
      "name": "python3",
      "display_name": "Python 3"
    },
    "language_info": {
      "name": "python"
    }
  },
  "cells": [
    {
      "cell_type": "markdown",
      "metadata": {
        "id": "view-in-github",
        "colab_type": "text"
      },
      "source": [
        "<a href=\"https://colab.research.google.com/github/DS3001/group9/blob/main/Data.ipynb\" target=\"_parent\"><img src=\"https://colab.research.google.com/assets/colab-badge.svg\" alt=\"Open In Colab\"/></a>"
      ]
    },
    {
      "cell_type": "markdown",
      "source": [
        "# Finding Relevant Data"
      ],
      "metadata": {
        "id": "1vgAMgSb4CLm"
      }
    },
    {
      "cell_type": "markdown",
      "source": [
        "We began our project with general interest in voting preferences. We explored race, sex, college degree, and income variables with the intention to find correlations with voting preferences in particular elections. We were initially most interested in the 2016 election because of its recency and cultural significance. Surprisingly, we found the data surrounding the election relatively messy and poor. We were faced with our first major decision: would it be better to focus on a more relevant election with poorer data or focus on an older election with more accurate data? We decided to focus on the latter, specifically analyzing how demographics affected voter preferences in the elections of 1980 and 1984. Though the 2016 election was more interesting to us, we decided that it would be best to make our conclusions based on the most sound data available."
      ],
      "metadata": {
        "id": "sDwAnqZI4OaX"
      }
    },
    {
      "cell_type": "markdown",
      "source": [
        "# 1980 Election\n"
      ],
      "metadata": {
        "id": "2qC0CiF64clZ"
      }
    },
    {
      "cell_type": "markdown",
      "source": [
        "We made a few key decisions in our data cleaning for the 1980 presidential election. We turned the ‘pres80’ into a binary variable, removing responses indicating votes for other candidates or not voting at all. We wanted to only focus on votes for Reagan and Carter. For the income variables, we replaced each income range with the mean as its numeric value. These decisions were challenging. In our effort to clean the data and make strong predictions, we had to sacrifice some relevant data. For example, John B. Anderson ran in the 1980 election and was included in the original dataset. Anderson campaigned for cutting social security taxes, which may have had a strong correlation to income. Our need for a binary prediction variable forced us to exclude Anderson from our regressions. After other minor data cleaning, we preprocessed the data for kNN, max-min normalized the data, trained, fit, and ran the model.\n",
        "\n",
        "Our first regression model was general: how did distribution of voters for Reagan and Carter vary based on income and age? We found a general correlation but also wanted to explore something more specific. For that reason, we modeled the 1980 election by the ‘raceseg’ variable. ‘Raceseg’ asked respondents whether they believed whites should have a right to segregate neighborhoods. To analyze this variable, we decided to split the data into two data frames: one that agreed with this question and one that disagreed. These scatterplots clearly demonstrated a different distribution of voting patterns based on age and income when observations were sub-divided by ‘raceseg.’ We found clearer predictions when running a kNN regression for both data frames. We will discuss these further in the 'results' section.\n"
      ],
      "metadata": {
        "id": "D6jfwUmKNHso"
      }
    },
    {
      "cell_type": "markdown",
      "source": [
        "# 1984 Election"
      ],
      "metadata": {
        "id": "QVyco7KHOLNp"
      }
    },
    {
      "cell_type": "markdown",
      "source": [
        "We followed similar cleaning procedures for the 1984 election. We converted ‘pres84’ into a binary variable (as we were only concerned with votes for Reagan or Mondale) and replaced each income range with the mean of its numeric value. We then coerced the age variable into numeric values. Our first regression depicted the distribution of voters for Reagan and Mondale based on purely income and age. We wanted the regression to be directly comparable to the 1980 election. Our predictions were not as strong for the 1984 election, but posed an interesting comparison nevertheless."
      ],
      "metadata": {
        "id": "l4r5H6NHOOlk"
      }
    }
  ]
}