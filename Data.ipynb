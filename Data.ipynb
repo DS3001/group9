{
  "nbformat": 4,
  "nbformat_minor": 0,
  "metadata": {
    "colab": {
      "provenance": [],
      "authorship_tag": "ABX9TyNWe527xUswUaTkJ+25PBI1",
      "include_colab_link": true
    },
    "kernelspec": {
      "name": "python3",
      "display_name": "Python 3"
    },
    "language_info": {
      "name": "python"
    }
  },
  "cells": [
    {
      "cell_type": "markdown",
      "metadata": {
        "id": "view-in-github",
        "colab_type": "text"
      },
      "source": [
        "<a href=\"https://colab.research.google.com/github/DS3001/group9/blob/main/Data.ipynb\" target=\"_parent\"><img src=\"https://colab.research.google.com/assets/colab-badge.svg\" alt=\"Open In Colab\"/></a>"
      ]
    },
    {
      "cell_type": "markdown",
      "source": [
        "# Finding Relevant Data"
      ],
      "metadata": {
        "id": "1vgAMgSb4CLm"
      }
    },
    {
      "cell_type": "markdown",
      "source": [
        "We began our project with general interest in voting preferences. We explored race, sex, college degree, and income variables with the intention to find correlations with voting preferences in particular elections. We were initially most interested in the 2016 election because of its recency and cultural significance. Suprisingly, we found the data surrounding the election relatively messy and poor. We instead decided to analyze how voting prefences changed from 1980-2000 based on voter demographics."
      ],
      "metadata": {
        "id": "sDwAnqZI4OaX"
      }
    },
    {
      "cell_type": "markdown",
      "source": [
        "# Reading, Cleaning, and Preparing our Data"
      ],
      "metadata": {
        "id": "2qC0CiF64clZ"
      }
    }
  ]
}