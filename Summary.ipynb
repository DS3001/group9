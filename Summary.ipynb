{
  "nbformat": 4,
  "nbformat_minor": 0,
  "metadata": {
    "colab": {
      "provenance": [],
      "include_colab_link": true
    },
    "kernelspec": {
      "name": "python3",
      "display_name": "Python 3"
    },
    "language_info": {
      "name": "python"
    }
  },
  "cells": [
    {
      "cell_type": "markdown",
      "metadata": {
        "id": "view-in-github",
        "colab_type": "text"
      },
      "source": [
        "<a href=\"https://colab.research.google.com/github/DS3001/group9/blob/main/Summary.ipynb\" target=\"_parent\"><img src=\"https://colab.research.google.com/assets/colab-badge.svg\" alt=\"Open In Colab\"/></a>"
      ]
    },
    {
      "cell_type": "markdown",
      "source": [
        "Our group aimed to explore the impacts of the backgrounds of voters, specifically in terms of their income, racial demographics, degree, age, sex, on their voting preferences from the SSP data. Our specific research question states: how have voter preferences changed over the period of 1980 - 2000 in relation to one’s demographics and opinions? The period 1980 - 2000 holds important developments and shifts in elections. One aspect is the shift from a large Republican power from 1980- 1988 elections, then moving to 1992 - 2000 being mainly Democratic. Over this course of time, the U.S. was also still involved in the Cold War, and the Soviet Union was dissolved. All this is said to demonstrate the important developments which contain interesting investigations into how certain variables interact with one another, and possibly display trends over the course of 20 years. With the advantage of a longitudinal study, we are able to examine changes in voter preferences based on any possible developments in one’s background or opinions. We theorize that there will be definite clusters shown in the data. Our method includes creating various models to predict the voting preferences based on these metrics (i.e. - income and age), cluster analysis, cross-tabulations for specific variables, as well as regressions. This will be done for each of the voting years within this period.\n"
      ],
      "metadata": {
        "id": "BtOaND19iStB"
      }
    }
  ]
}