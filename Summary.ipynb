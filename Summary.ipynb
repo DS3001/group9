{
  "nbformat": 4,
  "nbformat_minor": 0,
  "metadata": {
    "colab": {
      "provenance": [],
      "include_colab_link": true
    },
    "kernelspec": {
      "name": "python3",
      "display_name": "Python 3"
    },
    "language_info": {
      "name": "python"
    }
  },
  "cells": [
    {
      "cell_type": "markdown",
      "metadata": {
        "id": "view-in-github",
        "colab_type": "text"
      },
      "source": [
        "<a href=\"https://colab.research.google.com/github/DS3001/group9/blob/main/Summary.ipynb\" target=\"_parent\"><img src=\"https://colab.research.google.com/assets/colab-badge.svg\" alt=\"Open In Colab\"/></a>"
      ]
    },
    {
      "cell_type": "markdown",
      "source": [
        "Our group aims to explore the impacts of the backgrounds of voters, specifically in terms of their income, age, and racial opinions on their voting preferences from the GSS data. Our specific research question states: how have voter preferences changed over the period of 1980 - 1984 in relation to one’s opinions on race? The period 1980 - 1984 holds is when Ronald Reagan first came into office, resulting in important changes in the economy, foreign policy, social values, and more (https://www.britannica.com/eventUnited-States-presidential-election-of-1980). His presidency involved highly conservative values, leading to a eight year presence of the Republican Party in office. This was a large shift from Carter's previous Democratic presence. All this is said to demonstrate the important developments which contain interesting investigations into how certain variables interact with one another, and possibly display trends over the period of these two elections. With the advantage of a longitudinal study, we are able to examine changes in voter preferences based on any possible developments in their opinions on race, based off of their age and income.  We theorize that there will be definite clusters shown in the data - for example, a supgroup of respondents that are in the higher income bracket voted for Reagan and agreed to an all white neighborhood.  Our method includes creating various models to predict the voting preferences based on these metrics (i.e. - income and age), cluster analysis, cross-tabulations for specific variables, as well as regressions. For the two elections, we first cleaned the data accordingly and examined the overall data trends through histograms and/or cross-tabulations, and then completed the modeling. We used KKN analysis, followed with computing the SSE for our prediction models to examine the accuracy of them. Additionally, we used scatterplots to compare the voter preferences with the \"raceseg\" variable as well as income and age to see if there is an overall difference or change for each election, or even across elections. Overall, our results displayed clear trends in certain ages and incomes with their voting preferences, as well as their responses to opinions on race. Voters for Reagan tended to agree more often with a white race-segregated neighborhood throughout both elections. Those who voted for the Democratic candidates were more likely to disagree to a race-segregated neighborhood, although the predicton variables for the '84 election were weaker for Mondale, Reagan's opposing candidate. The overall push for Reagan's voting insisted on an increased prevalance of conservative values between 1980-1984, and an possible increase, or maintained prejudiced opinions for those who favored Reagan. The models displayed confidence between within certain age groups and incomes for each of the figures we used, proving that they were a decent fit to come to these conclusions.\n"
      ],
      "metadata": {
        "id": "BtOaND19iStB"
      }
    }
  ]
}