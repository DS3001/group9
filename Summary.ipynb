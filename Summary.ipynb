{
  "nbformat": 4,
  "nbformat_minor": 0,
  "metadata": {
    "colab": {
      "provenance": [],
      "include_colab_link": true
    },
    "kernelspec": {
      "name": "python3",
      "display_name": "Python 3"
    },
    "language_info": {
      "name": "python"
    }
  },
  "cells": [
    {
      "cell_type": "markdown",
      "metadata": {
        "id": "view-in-github",
        "colab_type": "text"
      },
      "source": [
        "<a href=\"https://colab.research.google.com/github/DS3001/group9/blob/main/Summary.ipynb\" target=\"_parent\"><img src=\"https://colab.research.google.com/assets/colab-badge.svg\" alt=\"Open In Colab\"/></a>"
      ]
    },
    {
      "cell_type": "markdown",
      "source": [
        "Our group aimed to explore the impacts of the backgrounds of voters, specifically in terms of their income, racial demographics, degree, age, sex, on their voting preferences from the GSS data. Our specific research question states: how have voter preferences changed over the period of 1980 - 1984 in relation to one’s demographics and opinions? The period 1980 - 1980 - 1984 holds important time for elections, in which Reagan first came into power. His presidency involved highly conservative values, leading to a eight year presence of the Republican Party in office. This was a large shift from Carter's previous Democratic presence. All this is said to demonstrate the important developments which contain interesting investigations into how certain variables interact with one another, and possibly display trends over the period of these two elections. With Reagan's presence in office, we wish to examine if there is a change in how many people agree or disagree, and compare that data to various factors such as their age, income, sex, etc. With the advantage of a longitudinal study, we are able to examine changes in voter preferences based on any possible developments in one’s background or opinions. We theorize that there will be definite clusters shown in the data - for example, a supgroup of respondents that voted for Reagan and agreed to an all white neighborhood.  Our method includes creating various models to predict the voting preferences based on these metrics (i.e. - income and age), cluster analysis, cross-tabulations for specific variables, as well as regressions. We then computed the SSE for our prediction models to examine the accuracy of them. Additionally, we used scatterplots to compare the voter preferences with the \"RaceSeg\" variable as well as income, and age to see if there is an overall difference or change for each election, and even across both of the elections.\n"
      ],
      "metadata": {
        "id": "BtOaND19iStB"
      }
    }
  ]
}