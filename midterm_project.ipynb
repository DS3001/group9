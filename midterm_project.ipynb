{
  "nbformat": 4,
  "nbformat_minor": 0,
  "metadata": {
    "colab": {
      "provenance": [],
      "authorship_tag": "ABX9TyN7FPxNF5D9OyNwLAV7x8OU",
      "include_colab_link": true
    },
    "kernelspec": {
      "name": "python3",
      "display_name": "Python 3"
    },
    "language_info": {
      "name": "python"
    }
  },
  "cells": [
    {
      "cell_type": "markdown",
      "metadata": {
        "id": "view-in-github",
        "colab_type": "text"
      },
      "source": [
        "<a href=\"https://colab.research.google.com/github/DS3001/group9/blob/main/midterm_project.ipynb\" target=\"_parent\"><img src=\"https://colab.research.google.com/assets/colab-badge.svg\" alt=\"Open In Colab\"/></a>"
      ]
    },
    {
      "cell_type": "code",
      "source": [
        ""
      ],
      "metadata": {
        "id": "dZWOe26B2qCB"
      },
      "execution_count": 2,
      "outputs": []
    },
    {
      "cell_type": "code",
      "source": [
        "! git clone https://github.com/DS3001/group9.git"
      ],
      "metadata": {
        "id": "lU6XxvYwSUDh",
        "outputId": "53f350b8-b303-43fc-e37e-f7595ccecd22",
        "colab": {
          "base_uri": "https://localhost:8080/"
        }
      },
      "execution_count": 3,
      "outputs": [
        {
          "output_type": "stream",
          "name": "stdout",
          "text": [
            "Cloning into 'group9'...\n",
            "fatal: could not read Username for 'https://github.com': No such device or address\n"
          ]
        }
      ]
    },
    {
      "cell_type": "markdown",
      "source": [
        "# Import dependencies and load data"
      ],
      "metadata": {
        "id": "vztTYu9vZc0L"
      }
    },
    {
      "cell_type": "code",
      "execution_count": 4,
      "metadata": {
        "id": "xAVe7C5haRcG"
      },
      "outputs": [],
      "source": [
        "import pandas as pd\n",
        "import numpy as np\n",
        "import seaborn as sns\n",
        "import matplotlib as plt\n",
        "\n",
        "import zipfile # for reading csv as zip"
      ]
    },
    {
      "cell_type": "code",
      "source": [
        "# zip file in git repo\n",
        "zip_path = \"/gss.csv.zip\"\n",
        "\n",
        "# Desired csv file in zip\n",
        "file_to_read = \"gss.csv\"\n",
        "\n",
        "with zipfile.ZipFile(zip_path, 'r') as zip_file:\n",
        "\n",
        "  var_list = ['pres80', 'degree', 'race', 'sex', 'rincom82', 'rincom86'] # List of variables to save\n",
        "  output_file = 'raw_gss_data.csv' # Name of the file to save the data to\n",
        "\n",
        "  parser = pd.read_csv(zip_file.open(file_to_read), iterator=True, chunksize=10000, low_memory=False) # Creates a parser for the whole data\n",
        "  modes = ['w','a'] # Has write mode and append mode\n",
        "  phase = 0 # Starts in write mode; after one iteration of loop, switches to append mode\n",
        "\n",
        "  for chunk in parser: # For each chunk of the data\n",
        "      print(chunk.loc[:,var_list].head()) # Visually inspect the first few rows\n",
        "      chunk.loc[:,var_list].to_csv(output_file, # specifies target file to save the chunk to\n",
        "                                  mode=modes[phase], # control write versus append\n",
        "                                  header=var_list, # variable names\n",
        "                                  index=False) # no row index saved\n",
        "      phase = 1 # Switch from write mode to append mode\n",
        "\n",
        "\n"
      ],
      "metadata": {
        "colab": {
          "base_uri": "https://localhost:8080/"
        },
        "id": "2nAVJDHBAIsd",
        "outputId": "eebe37de-0cc9-49ef-c85e-dd512272022a"
      },
      "execution_count": 38,
      "outputs": [
        {
          "output_type": "stream",
          "name": "stdout",
          "text": [
            "   pres80                 degree   race     sex  rincom82  rincom86\n",
            "0     NaN             bachelor's  white  female       NaN       NaN\n",
            "1     NaN  less than high school  white    male       NaN       NaN\n",
            "2     NaN            high school  white  female       NaN       NaN\n",
            "3     NaN             bachelor's  white  female       NaN       NaN\n",
            "4     NaN            high school  white  female       NaN       NaN\n",
            "      pres80                 degree   race     sex rincom82 rincom86\n",
            "10000    NaN            high school  black  female      NaN      NaN\n",
            "10001    NaN            high school  white  female      NaN      NaN\n",
            "10002    NaN            high school  white    male      NaN      NaN\n",
            "10003    NaN            high school  white  female      NaN      NaN\n",
            "10004    NaN  less than high school  other    male      NaN      NaN\n",
            "      pres80                 degree   race     sex  rincom82      rincom86\n",
            "20000    NaN  less than high school  other  female       NaN           NaN\n",
            "20001    NaN  less than high school  white  female       NaN      lt $1000\n",
            "20002    NaN            high school  white  female       NaN  $20000-22499\n",
            "20003    NaN            high school  white  female       NaN    $3000-3999\n",
            "20004    NaN            high school  white    male       NaN  $40000-49999\n",
            "       pres80                 degree   race     sex  rincom82  rincom86\n",
            "30000     NaN  less than high school  black  female       NaN       NaN\n",
            "30001     NaN            high school  black    male       NaN       NaN\n",
            "30002     NaN            high school  black    male       NaN       NaN\n",
            "30003     NaN             bachelor's  black  female       NaN       NaN\n",
            "30004     NaN  less than high school  black  female       NaN       NaN\n",
            "       pres80                 degree   race     sex  rincom82  rincom86\n",
            "40000     NaN            high school  white  female       NaN       NaN\n",
            "40001     NaN            high school  white  female       NaN       NaN\n",
            "40002     NaN  less than high school  white  female       NaN       NaN\n",
            "40003     NaN             bachelor's  white  female       NaN       NaN\n",
            "40004     NaN             bachelor's  white    male       NaN       NaN\n",
            "       pres80                 degree   race     sex  rincom82  rincom86\n",
            "50000     NaN  less than high school  white    male       NaN       NaN\n",
            "50001     NaN            high school  white  female       NaN       NaN\n",
            "50002     NaN            high school  white  female       NaN       NaN\n",
            "50003     NaN  less than high school  white  female       NaN       NaN\n",
            "50004     NaN            high school  white  female       NaN       NaN\n",
            "       pres80                    degree   race     sex  rincom82  rincom86\n",
            "60000     NaN               high school  white  female       NaN       NaN\n",
            "60001     NaN  associate/junior college  white  female       NaN       NaN\n",
            "60002     NaN               high school  black    male       NaN       NaN\n",
            "60003     NaN                  graduate  other    male       NaN       NaN\n",
            "60004     NaN               high school  white  female       NaN       NaN\n",
            "       pres80                 degree   race     sex  rincom82  rincom86\n",
            "70000     NaN             bachelor's  white    male       NaN       NaN\n",
            "70001     NaN  less than high school  white    male       NaN       NaN\n",
            "70002     NaN            high school  white  female       NaN       NaN\n",
            "70003     NaN            high school  white    male       NaN       NaN\n",
            "70004     NaN            high school  white  female       NaN       NaN\n"
          ]
        }
      ]
    },
    {
      "cell_type": "code",
      "source": [
        "# Create dataframe from 'raw_gss_data.csv' that was just written\n",
        "gss_dat = pd.read_csv(\"raw_gss_data.csv\")\n"
      ],
      "metadata": {
        "id": "qStymvbAuXyM"
      },
      "execution_count": 96,
      "outputs": []
    },
    {
      "cell_type": "markdown",
      "source": [
        "# Data cleaning and preprocessing"
      ],
      "metadata": {
        "id": "Sh7lo7ZDZTHd"
      }
    },
    {
      "cell_type": "code",
      "source": [
        "gss_dat['pres80'].unique()"
      ],
      "metadata": {
        "id": "oRRtiPuLYwK0",
        "outputId": "14ecefa7-e0ca-4531-e0d9-fb3449f5e434",
        "colab": {
          "base_uri": "https://localhost:8080/"
        }
      },
      "execution_count": 43,
      "outputs": [
        {
          "output_type": "execute_result",
          "data": {
            "text/plain": [
              "array([nan, 'pres80', 'reagan', 'carter', 'anderson', 'refused_(5)',\n",
              "       'other', 'didnt vote'], dtype=object)"
            ]
          },
          "metadata": {},
          "execution_count": 43
        }
      ]
    },
    {
      "cell_type": "code",
      "source": [
        "#print(gss_dat['pres80'].value_counts())\n",
        "\n",
        "# Remove \"didn't vote for president\" and other no answer responses (see codebook)\n",
        "gss_dat = gss_dat.loc[\n",
        "    (gss_dat['pres80'] == 'reagan') |\n",
        "    (gss_dat['pres80'] == 'carter') |\n",
        "    (gss_dat['pres80'] == 'anderson'), :]\n",
        "\n",
        "# Every entry either voted for Trump, Clinton, or other unspecified candidate\n",
        "print(gss_dat['pres80'].value_counts())\n",
        "print(gss_dat['pres80'].isnull().sum())\n",
        "\n",
        "\n",
        "# data is now filtered for years 82-87, as observations for pres80 are only in this range"
      ],
      "metadata": {
        "id": "JC7h7E43WkMY",
        "outputId": "9a2e85c4-350a-4448-d639-5cd34f542dfc",
        "colab": {
          "base_uri": "https://localhost:8080/"
        }
      },
      "execution_count": 97,
      "outputs": [
        {
          "output_type": "stream",
          "name": "stdout",
          "text": [
            "carter      2635\n",
            "reagan      2218\n",
            "anderson     308\n",
            "Name: pres80, dtype: int64\n",
            "0\n"
          ]
        }
      ]
    },
    {
      "cell_type": "code",
      "source": [
        "# Used to restore original 'degree' bc I keep messing it up\n",
        "gss_dat['degree'].isnull().sum()\n",
        "gss_dat['degree'].value_counts()\n",
        "gss_dat['degree'].unique() # NaN and 'degree' present\n",
        "\n",
        "gss_dat = gss_dat.loc[(~gss_dat['degree'].isnull()) & (gss_dat['degree'] != 'degree'), ] # keep rows where value for degree is not NaN or 'degree' (see codebook, NaN and 'degree' respones are invalid)\n",
        "gss_dat['degree'].unique() # all observations are now \"bachelor's\", 'less than high school', 'high school', 'graduate', or 'associate/junior college'\n",
        "\n",
        "gss_dat['degree'].hist()"
      ],
      "metadata": {
        "id": "rcXxcXRHZOQQ",
        "outputId": "8d988343-6e3d-4518-8d2c-e7e898cd25ca",
        "colab": {
          "base_uri": "https://localhost:8080/",
          "height": 447
        }
      },
      "execution_count": 98,
      "outputs": [
        {
          "output_type": "execute_result",
          "data": {
            "text/plain": [
              "<Axes: >"
            ]
          },
          "metadata": {},
          "execution_count": 98
        },
        {
          "output_type": "display_data",
          "data": {
            "text/plain": [
              "<Figure size 640x480 with 1 Axes>"
            ],
            "image/png": "[encoded data removed]"
          },
          "metadata": {}
        }
      ]
    },
    {
      "cell_type": "code",
      "source": [
        "# rincom82\n",
        "# because of the distribution of this histogram, I think it is ok to take the mean of each range as its numeric value\n",
        "## $50,000 + is ok as 50000 as it is not a huge proportion of the data\n",
        "#gss_dat['rincom82'].hist()\n",
        "gss_dat['rincom82'].unique()\n",
        "\n",
        "gss_dat['rincom82'].value_counts()\n",
        "# recode all values to numeric mean of range\n",
        "temp = gss_dat['rincom82'].replace('lt $1000', 1000).replace('$1000-2999', 2000).replace('$3000-3999', 3500).replace('$4000-4999', 4500).replace('$5000-5999', 5500).replace('$6000-6999', 6500).replace('$7000-7999', 7500).replace('$8000-9999', 9000).replace('$10000-12499', 11250).replace('$12500-14999', 13750).replace('$15000-17499', 16250).replace('$17500-19999', 18750).replace('$20000-22499', 21250).replace('$22500-24999', 23750).replace('$25000-34999', 30000).replace('$35000-49999', 42500).replace('$50000 +', 50000)\n",
        "temp.value_counts()\n",
        "gss_dat['rincom82'] = temp\n",
        "\n",
        "\n",
        "\n",
        "# rincom86\n",
        "gss_dat['rincom86'].value_counts()\n",
        "# recode all values to numeric mean of range\n",
        "temp = gss_dat['rincom86'].replace('lt $1000', 1000).replace('$1000-2999', 2000).replace('$3000-3999', 3500).replace('$4000-4999', 4500).replace('$5000-5999', 5500).replace('$6000-6999', 6500).replace('$7000-7999', 7500).replace('$8000-9999', 9000).replace('$10000-12499', 11250).replace('$12500-14999', 13750).replace('$15000-17499', 16250).replace('$17500-19999', 18750).replace('$20000-22499', 21250).replace('$22500-24999', 23750).replace('$25000-29999', 27500).replace('$30000-34999', 32500).replace('$35000-39999', 37500).replace('$40000-49999', 45000).replace('$50000-59999', 55000).replace('$60000+', 60000)\n",
        "temp.value_counts()\n",
        "gss_dat['rincom86'] = temp\n",
        "\n",
        "gss_dat = gss_dat.loc[(~gss_dat['rincom82'].isnull()) |\n",
        "                      (~gss_dat['rincom86'].isnull()), ] # dropped all rows where rincom82 is a NaN or rincom86 is a NaN\n",
        "\n",
        "\n",
        "print(gss_dat['rincom82'].unique())\n",
        "print(gss_dat['rincom86'].unique())\n",
        "\n",
        "gss_dat['income'] = gss_dat['rincom82'].fillna(gss_dat['rincom86']) # make a combined column 'income' that is equal to rincom82 unless it is NaN, then equal to rincom86\n",
        "gss_dat['income'].describe()\n",
        "\n"
      ],
      "metadata": {
        "id": "zhrSnGVnZQfu",
        "outputId": "d313d026-496b-4be3-b1c2-33cd381df04c",
        "colab": {
          "base_uri": "https://localhost:8080/"
        }
      },
      "execution_count": 108,
      "outputs": [
        {
          "output_type": "stream",
          "name": "stdout",
          "text": [
            "[18750. 16250. 11250.  2000. 30000.  1000.  6500.  4500.  3500. 13750.\n",
            " 21250. 23750.  7500.  5500. 50000.  9000. 42500.    nan]\n",
            "[   nan 60000. 45000. 11250. 27500. 21250. 23750. 32500.  7500.  5500.\n",
            "  3500.  1000. 55000.  4500. 37500. 13750. 16250.  2000.  9000. 18750.\n",
            "  6500.]\n",
            "[18750. 16250. 11250.  2000. 30000.  1000.  6500.  4500.  3500. 13750.\n",
            " 21250. 23750.  7500.  5500. 50000.  9000. 42500. 60000. 45000. 27500.\n",
            " 32500. 55000. 37500.]\n"
          ]
        }
      ]
    },
    {
      "cell_type": "code",
      "source": [
        "# X = degree, rincom82, 86; y = pres80\n",
        "\n",
        "### data preprocessing ###\n",
        "\n",
        "gss_dat['degree'].replace('less than high school', 0).replace('high school', 1).replace('associate/junior college', 2).replace(\"bachelor's\", 3).replace('graduate', 4)\n",
        "# 0 = Less than hs\n",
        "# 1 = hs\n",
        "# 2 = associate/junior college\n",
        "# 3 = bachelors\n",
        "# 4 = graduate\n"
      ],
      "metadata": {
        "id": "IEIPEnCiND_n",
        "outputId": "abe81cac-0e0b-4c74-a5ab-71064fd64eea",
        "colab": {
          "base_uri": "https://localhost:8080/"
        }
      },
      "execution_count": 109,
      "outputs": [
        {
          "output_type": "execute_result",
          "data": {
            "text/plain": [
              "12121    0\n",
              "12129    4\n",
              "12132    3\n",
              "12133    0\n",
              "12134    1\n",
              "        ..\n",
              "21856    1\n",
              "21857    1\n",
              "21858    1\n",
              "21860    1\n",
              "21864    1\n",
              "Name: degree, Length: 3275, dtype: int64"
            ]
          },
          "metadata": {},
          "execution_count": 109
        }
      ]
    },
    {
      "cell_type": "code",
      "source": [
        "# Function to max-min normalize data so each variables ranges from 0-1\n",
        "def maxmin(x):\n",
        "  res = (x-min(x))/(max(x)-min(x))\n",
        "  return res"
      ],
      "metadata": {
        "id": "mGRbFeVytkYO"
      },
      "execution_count": 110,
      "outputs": []
    },
    {
      "cell_type": "code",
      "source": [
        "X = gss_dat[['income', 'degree']]\n",
        "y = gss_dat['pres80']\n",
        "\n",
        "sns.scatterplot(gss_dat, x='income', y='degree', hue='pres80')\n"
      ],
      "metadata": {
        "id": "wdOFA7hPlJyp",
        "outputId": "c2a5bc9c-d95f-4e20-9b97-8582945fbe9a",
        "colab": {
          "base_uri": "https://localhost:8080/",
          "height": 466
        }
      },
      "execution_count": 114,
      "outputs": [
        {
          "output_type": "execute_result",
          "data": {
            "text/plain": [
              "<Axes: xlabel='income', ylabel='degree'>"
            ]
          },
          "metadata": {},
          "execution_count": 114
        },
        {
          "output_type": "display_data",
          "data": {
            "text/plain": [
              "<Figure size 640x480 with 1 Axes>"
            ],
            "image/png": "[encoded data removed]"
          },
          "metadata": {}
        }
      ]
    },
    {
      "cell_type": "code",
      "source": [
        "print(gss_dat['age'].value_counts())\n",
        "gss_dat['age'].isnull().sum()\n",
        "gss_dat = gss_dat.loc[~gss_dat['age'].isnull(), ] # keep rows where age is NOT null\n",
        "gss_dat['age'].isnull().sum()"
      ],
      "metadata": {
        "id": "5dJsMVaHXhta",
        "outputId": "db8826f8-2cf7-4d78-fabf-1a51c1450b65",
        "colab": {
          "base_uri": "https://localhost:8080/"
        }
      },
      "execution_count": 10,
      "outputs": [
        {
          "output_type": "stream",
          "name": "stdout",
          "text": [
            "70.0    148\n",
            "68.0    141\n",
            "69.0    140\n",
            "65.0    137\n",
            "67.0    137\n",
            "       ... \n",
            "22.0     14\n",
            "88.0     14\n",
            "87.0     12\n",
            "21.0      9\n",
            "20.0      4\n",
            "Name: age, Length: 70, dtype: int64\n"
          ]
        },
        {
          "output_type": "execute_result",
          "data": {
            "text/plain": [
              "0"
            ]
          },
          "metadata": {},
          "execution_count": 10
        }
      ]
    },
    {
      "cell_type": "code",
      "source": [
        "gss_dat['abmoral'].value_counts() # clean, can remove \"depends\" for more specific results\n",
        "gss_dat['abmoral'].isnull().sum() # so many absent values, no reason to continue with variable\n",
        "gss_dat.drop('abmoral', axis=1, inplace=True) # drop column 'abmoral' on axis 1 (column)"
      ],
      "metadata": {
        "id": "2q6G1EPXXNOa"
      },
      "execution_count": 9,
      "outputs": []
    },
    {
      "cell_type": "code",
      "source": [
        "gss_dat['madeg'].isnull().sum()\n",
        "gss_dat['madeg'].unique() # NaNs present\n",
        "\n",
        "gss_dat = gss_dat.loc[~gss_dat['madeg'].isnull(), ] # keep rows where value for madeg is not NaN\n",
        "gss_dat['madeg'].unique() # NaNs present"
      ],
      "metadata": {
        "id": "tgtdaK9qbldz",
        "outputId": "d228dd81-460a-462b-f6b0-dcd833fe0655",
        "colab": {
          "base_uri": "https://localhost:8080/"
        }
      },
      "execution_count": 12,
      "outputs": [
        {
          "output_type": "execute_result",
          "data": {
            "text/plain": [
              "array(['high school', 'less than high school', \"bachelor's\", 'graduate',\n",
              "       'associate/junior college'], dtype=object)"
            ]
          },
          "metadata": {},
          "execution_count": 12
        }
      ]
    },
    {
      "cell_type": "code",
      "source": [
        "gss_dat['padeg'].isnull().sum()\n",
        "gss_dat['padeg'].unique() # NaNs present\n",
        "\n",
        "gss_dat = gss_dat.loc[~gss_dat['padeg'].isnull(), ] # keep rows where value for padeg is not NaN\n",
        "gss_dat['padeg'].unique() # NaNs present"
      ],
      "metadata": {
        "id": "XdGTbORpcQgW",
        "outputId": "89015597-e3bd-46e8-c05d-dc3c0cc8faa7",
        "colab": {
          "base_uri": "https://localhost:8080/"
        }
      },
      "execution_count": 13,
      "outputs": [
        {
          "output_type": "execute_result",
          "data": {
            "text/plain": [
              "array(['high school', 'less than high school', 'associate/junior college',\n",
              "       \"bachelor's\", 'graduate'], dtype=object)"
            ]
          },
          "metadata": {},
          "execution_count": 13
        }
      ]
    },
    {
      "cell_type": "code",
      "source": [
        "gss_dat['sex'].unique() # NaN present\n",
        "gss_dat = gss_dat.loc[~gss_dat['sex'].isnull(), ] # check codebook, sex == nan does not make sense in context of survey\n",
        "gss_dat['sex'].unique()"
      ],
      "metadata": {
        "id": "HTZoiM7WcafS",
        "outputId": "c2c1f808-96cc-46d8-e035-93445abf9bcb",
        "colab": {
          "base_uri": "https://localhost:8080/"
        }
      },
      "execution_count": 14,
      "outputs": [
        {
          "output_type": "execute_result",
          "data": {
            "text/plain": [
              "array(['male', 'female'], dtype=object)"
            ]
          },
          "metadata": {},
          "execution_count": 14
        }
      ]
    },
    {
      "cell_type": "code",
      "source": [
        "gss_dat['race'].value_counts().sum()\n",
        "gss_dat = gss_dat.loc[~gss_dat['race'].isnull(), ] # keep rows where race is not null\n",
        "\n",
        "gss_dat['race'].unique()\n",
        "print(\"Proportion white:\", (gss_dat['race'] == 'white').sum() / (len(gss_dat))) # output of proportions of race in data for reference/Data write up\n",
        "print(\"Proportion black:\", (gss_dat['race'] == 'black').sum() / (len(gss_dat)))\n",
        "print(\"Proportion other than w/b:\", (gss_dat['race'] == 'other').sum() / (len(gss_dat)))\n",
        "\n",
        "gss_dat['race'].hist()"
      ],
      "metadata": {
        "id": "WmCWd4sWcxCO",
        "outputId": "d09f0ffa-143c-458f-bab1-9b9103711021",
        "colab": {
          "base_uri": "https://localhost:8080/",
          "height": 498
        }
      },
      "execution_count": 15,
      "outputs": [
        {
          "output_type": "stream",
          "name": "stdout",
          "text": [
            "Proportion white: 0.8429476492164054\n",
            "Proportion black: 0.09736578859619874\n",
            "Proportion other than w/b: 0.0596865621873958\n"
          ]
        },
        {
          "output_type": "execute_result",
          "data": {
            "text/plain": [
              "<Axes: >"
            ]
          },
          "metadata": {},
          "execution_count": 15
        },
        {
          "output_type": "display_data",
          "data": {
            "text/plain": [
              "<Figure size 640x480 with 1 Axes>"
            ],
            "image/png": "[encoded data removed]"
          },
          "metadata": {}
        }
      ]
    },
    {
      "cell_type": "code",
      "source": [
        "gss_dat = gss_dat.loc[(~gss_dat['wrkstat'].isnull()), ] # remove NaNs\n",
        "gss_dat['wrkstat'] = gss_dat['wrkstat'].replace('unemployed, laid off, looking for work', 'unemployed') # replace long string of unemployed states with 'unemployed'\n",
        "(gss_dat['wrkstat'] == 'with a job, but not at work because of temporary illness, vacation, strike').sum() # relatively few entries, annoying value\n",
        "\n",
        "gss_dat = gss_dat.loc[gss_dat['wrkstat'] != 'with a job, but not at work because of temporary illness, vacation, strike', ] # delete rows w/ this entry ^\n",
        "print(gss_dat['wrkstat'].value_counts())"
      ],
      "metadata": {
        "id": "fSzoQCtseia2",
        "outputId": "b559a283-bc25-4f17-d808-e538d9be1579",
        "colab": {
          "base_uri": "https://localhost:8080/"
        }
      },
      "execution_count": 16,
      "outputs": [
        {
          "output_type": "stream",
          "name": "stdout",
          "text": [
            "working full time    1389\n",
            "retired               868\n",
            "working part time     274\n",
            "keeping house         180\n",
            "unemployed            112\n",
            "other                  58\n",
            "in school              44\n",
            "Name: wrkstat, dtype: int64\n"
          ]
        },
        {
          "output_type": "stream",
          "name": "stderr",
          "text": [
            "<ipython-input-16-c810d216cb43>:2: SettingWithCopyWarning: \n",
            "A value is trying to be set on a copy of a slice from a DataFrame.\n",
            "Try using .loc[row_indexer,col_indexer] = value instead\n",
            "\n",
            "See the caveats in the documentation: https://pandas.pydata.org/pandas-docs/stable/user_guide/indexing.html#returning-a-view-versus-a-copy\n",
            "  gss_dat['wrkstat'] = gss_dat['wrkstat'].replace('unemployed, laid off, looking for work', 'unemployed') # replace long string of unemployed states with 'unemployed'\n"
          ]
        }
      ]
    },
    {
      "cell_type": "code",
      "source": [
        "gss_dat = gss_dat.loc[~gss_dat['wrkstat'].isnull(), ]\n",
        "gss_dat['wrkgovt'].unique()"
      ],
      "metadata": {
        "id": "JBpoJq5lhgcq",
        "outputId": "cb9e03dd-44e6-4d40-e016-306c4cf13728",
        "colab": {
          "base_uri": "https://localhost:8080/"
        }
      },
      "execution_count": 17,
      "outputs": [
        {
          "output_type": "execute_result",
          "data": {
            "text/plain": [
              "array(['private', 'government', nan], dtype=object)"
            ]
          },
          "metadata": {},
          "execution_count": 17
        }
      ]
    },
    {
      "cell_type": "code",
      "source": [
        "# Shows that many mothers and fathers have similiar levels of education\n",
        "pd.crosstab(gss_dat['madeg'], gss_dat['padeg'])"
      ],
      "metadata": {
        "id": "VJy5gEq1LSBQ",
        "outputId": "92142f1c-6a84-4354-f519-91d38042f3d8",
        "colab": {
          "base_uri": "https://localhost:8080/",
          "height": 235
        }
      },
      "execution_count": 18,
      "outputs": [
        {
          "output_type": "execute_result",
          "data": {
            "text/plain": [
              "padeg                     associate/junior college  bachelor's  graduate  \\\n",
              "madeg                                                                      \n",
              "associate/junior college                        23          29        16   \n",
              "bachelor's                                      11         159       129   \n",
              "graduate                                         6          46        91   \n",
              "high school                                     49         193       101   \n",
              "less than high school                            8          13         6   \n",
              "\n",
              "padeg                     high school  less than high school  \n",
              "madeg                                                         \n",
              "associate/junior college           77                     17  \n",
              "bachelor's                        113                     16  \n",
              "graduate                           41                      7  \n",
              "high school                       971                    281  \n",
              "less than high school             139                    383  "
            ],
            "text/html": [
              "\n",
              "  <div id=\"df-bca712f5-ca1f-4f3d-a7bd-75af27b07798\" class=\"colab-df-container\">\n",
              "    <div>\n",
              "<style scoped>\n",
              "    .dataframe tbody tr th:only-of-type {\n",
              "        vertical-align: middle;\n",
              "    }\n",
              "\n",
              "    .dataframe tbody tr th {\n",
              "        vertical-align: top;\n",
              "    }\n",
              "\n",
              "    .dataframe thead th {\n",
              "        text-align: right;\n",
              "    }\n",
              "</style>\n",
              "<table border=\"1\" class=\"dataframe\">\n",
              "  <thead>\n",
              "    <tr style=\"text-align: right;\">\n",
              "      <th>padeg</th>\n",
              "      <th>associate/junior college</th>\n",
              "      <th>bachelor's</th>\n",
              "      <th>graduate</th>\n",
              "      <th>high school</th>\n",
              "      <th>less than high school</th>\n",
              "    </tr>\n",
              "    <tr>\n",
              "      <th>madeg</th>\n",
              "      <th></th>\n",
              "      <th></th>\n",
              "      <th></th>\n",
              "      <th></th>\n",
              "      <th></th>\n",
              "    </tr>\n",
              "  </thead>\n",
              "  <tbody>\n",
              "    <tr>\n",
              "      <th>associate/junior college</th>\n",
              "      <td>23</td>\n",
              "      <td>29</td>\n",
              "      <td>16</td>\n",
              "      <td>77</td>\n",
              "      <td>17</td>\n",
              "    </tr>\n",
              "    <tr>\n",
              "      <th>bachelor's</th>\n",
              "      <td>11</td>\n",
              "      <td>159</td>\n",
              "      <td>129</td>\n",
              "      <td>113</td>\n",
              "      <td>16</td>\n",
              "    </tr>\n",
              "    <tr>\n",
              "      <th>graduate</th>\n",
              "      <td>6</td>\n",
              "      <td>46</td>\n",
              "      <td>91</td>\n",
              "      <td>41</td>\n",
              "      <td>7</td>\n",
              "    </tr>\n",
              "    <tr>\n",
              "      <th>high school</th>\n",
              "      <td>49</td>\n",
              "      <td>193</td>\n",
              "      <td>101</td>\n",
              "      <td>971</td>\n",
              "      <td>281</td>\n",
              "    </tr>\n",
              "    <tr>\n",
              "      <th>less than high school</th>\n",
              "      <td>8</td>\n",
              "      <td>13</td>\n",
              "      <td>6</td>\n",
              "      <td>139</td>\n",
              "      <td>383</td>\n",
              "    </tr>\n",
              "  </tbody>\n",
              "</table>\n",
              "</div>\n",
              "    <div class=\"colab-df-buttons\">\n",
              "\n",
              "  <div class=\"colab-df-container\">\n",
              "    <button class=\"colab-df-convert\" onclick=\"convertToInteractive('df-bca712f5-ca1f-4f3d-a7bd-75af27b07798')\"\n",
              "            title=\"Convert this dataframe to an interactive table.\"\n",
              "            style=\"display:none;\">\n",
              "\n",
              "  <svg xmlns=\"http://www.w3.org/2000/svg\" height=\"24px\" viewBox=\"0 -960 960 960\">\n",
              "    <path d=\"M120-120v-720h720v720H120Zm60-500h600v-160H180v160Zm220 220h160v-160H400v160Zm0 220h160v-160H400v160ZM180-400h160v-160H180v160Zm440 0h160v-160H620v160ZM180-180h160v-160H180v160Zm440 0h160v-160H620v160Z\"/>\n",
              "  </svg>\n",
              "    </button>\n",
              "\n",
              "  <style>\n",
              "    .colab-df-container {\n",
              "      display:flex;\n",
              "      gap: 12px;\n",
              "    }\n",
              "\n",
              "    .colab-df-convert {\n",
              "      background-color: #E8F0FE;\n",
              "      border: none;\n",
              "      border-radius: 50%;\n",
              "      cursor: pointer;\n",
              "      display: none;\n",
              "      fill: #1967D2;\n",
              "      height: 32px;\n",
              "      padding: 0 0 0 0;\n",
              "      width: 32px;\n",
              "    }\n",
              "\n",
              "    .colab-df-convert:hover {\n",
              "      background-color: #E2EBFA;\n",
              "      box-shadow: 0px 1px 2px rgba(60, 64, 67, 0.3), 0px 1px 3px 1px rgba(60, 64, 67, 0.15);\n",
              "      fill: #174EA6;\n",
              "    }\n",
              "\n",
              "    .colab-df-buttons div {\n",
              "      margin-bottom: 4px;\n",
              "    }\n",
              "\n",
              "    [theme=dark] .colab-df-convert {\n",
              "      background-color: #3B4455;\n",
              "      fill: #D2E3FC;\n",
              "    }\n",
              "\n",
              "    [theme=dark] .colab-df-convert:hover {\n",
              "      background-color: #434B5C;\n",
              "      box-shadow: 0px 1px 3px 1px rgba(0, 0, 0, 0.15);\n",
              "      filter: drop-shadow(0px 1px 2px rgba(0, 0, 0, 0.3));\n",
              "      fill: #FFFFFF;\n",
              "    }\n",
              "  </style>\n",
              "\n",
              "    <script>\n",
              "      const buttonEl =\n",
              "        document.querySelector('#df-bca712f5-ca1f-4f3d-a7bd-75af27b07798 button.colab-df-convert');\n",
              "      buttonEl.style.display =\n",
              "        google.colab.kernel.accessAllowed ? 'block' : 'none';\n",
              "\n",
              "      async function convertToInteractive(key) {\n",
              "        const element = document.querySelector('#df-bca712f5-ca1f-4f3d-a7bd-75af27b07798');\n",
              "        const dataTable =\n",
              "          await google.colab.kernel.invokeFunction('convertToInteractive',\n",
              "                                                    [key], {});\n",
              "        if (!dataTable) return;\n",
              "\n",
              "        const docLinkHtml = 'Like what you see? Visit the ' +\n",
              "          '<a target=\"_blank\" href=https://colab.research.google.com/notebooks/data_table.ipynb>data table notebook</a>'\n",
              "          + ' to learn more about interactive tables.';\n",
              "        element.innerHTML = '';\n",
              "        dataTable['output_type'] = 'display_data';\n",
              "        await google.colab.output.renderOutput(dataTable, element);\n",
              "        const docLink = document.createElement('div');\n",
              "        docLink.innerHTML = docLinkHtml;\n",
              "        element.appendChild(docLink);\n",
              "      }\n",
              "    </script>\n",
              "  </div>\n",
              "\n",
              "\n",
              "<div id=\"df-f05d7202-1b0b-4303-b02d-aab8bf714bab\">\n",
              "  <button class=\"colab-df-quickchart\" onclick=\"quickchart('df-f05d7202-1b0b-4303-b02d-aab8bf714bab')\"\n",
              "            title=\"Suggest charts.\"\n",
              "            style=\"display:none;\">\n",
              "\n",
              "<svg xmlns=\"http://www.w3.org/2000/svg\" height=\"24px\"viewBox=\"0 0 24 24\"\n",
              "     width=\"24px\">\n",
              "    <g>\n",
              "        <path d=\"M19 3H5c-1.1 0-2 .9-2 2v14c0 1.1.9 2 2 2h14c1.1 0 2-.9 2-2V5c0-1.1-.9-2-2-2zM9 17H7v-7h2v7zm4 0h-2V7h2v10zm4 0h-2v-4h2v4z\"/>\n",
              "    </g>\n",
              "</svg>\n",
              "  </button>\n",
              "\n",
              "<style>\n",
              "  .colab-df-quickchart {\n",
              "      --bg-color: #E8F0FE;\n",
              "      --fill-color: #1967D2;\n",
              "      --hover-bg-color: #E2EBFA;\n",
              "      --hover-fill-color: #174EA6;\n",
              "      --disabled-fill-color: #AAA;\n",
              "      --disabled-bg-color: #DDD;\n",
              "  }\n",
              "\n",
              "  [theme=dark] .colab-df-quickchart {\n",
              "      --bg-color: #3B4455;\n",
              "      --fill-color: #D2E3FC;\n",
              "      --hover-bg-color: #434B5C;\n",
              "      --hover-fill-color: #FFFFFF;\n",
              "      --disabled-bg-color: #3B4455;\n",
              "      --disabled-fill-color: #666;\n",
              "  }\n",
              "\n",
              "  .colab-df-quickchart {\n",
              "    background-color: var(--bg-color);\n",
              "    border: none;\n",
              "    border-radius: 50%;\n",
              "    cursor: pointer;\n",
              "    display: none;\n",
              "    fill: var(--fill-color);\n",
              "    height: 32px;\n",
              "    padding: 0;\n",
              "    width: 32px;\n",
              "  }\n",
              "\n",
              "  .colab-df-quickchart:hover {\n",
              "    background-color: var(--hover-bg-color);\n",
              "    box-shadow: 0 1px 2px rgba(60, 64, 67, 0.3), 0 1px 3px 1px rgba(60, 64, 67, 0.15);\n",
              "    fill: var(--button-hover-fill-color);\n",
              "  }\n",
              "\n",
              "  .colab-df-quickchart-complete:disabled,\n",
              "  .colab-df-quickchart-complete:disabled:hover {\n",
              "    background-color: var(--disabled-bg-color);\n",
              "    fill: var(--disabled-fill-color);\n",
              "    box-shadow: none;\n",
              "  }\n",
              "\n",
              "  .colab-df-spinner {\n",
              "    border: 2px solid var(--fill-color);\n",
              "    border-color: transparent;\n",
              "    border-bottom-color: var(--fill-color);\n",
              "    animation:\n",
              "      spin 1s steps(1) infinite;\n",
              "  }\n",
              "\n",
              "  @keyframes spin {\n",
              "    0% {\n",
              "      border-color: transparent;\n",
              "      border-bottom-color: var(--fill-color);\n",
              "      border-left-color: var(--fill-color);\n",
              "    }\n",
              "    20% {\n",
              "      border-color: transparent;\n",
              "      border-left-color: var(--fill-color);\n",
              "      border-top-color: var(--fill-color);\n",
              "    }\n",
              "    30% {\n",
              "      border-color: transparent;\n",
              "      border-left-color: var(--fill-color);\n",
              "      border-top-color: var(--fill-color);\n",
              "      border-right-color: var(--fill-color);\n",
              "    }\n",
              "    40% {\n",
              "      border-color: transparent;\n",
              "      border-right-color: var(--fill-color);\n",
              "      border-top-color: var(--fill-color);\n",
              "    }\n",
              "    60% {\n",
              "      border-color: transparent;\n",
              "      border-right-color: var(--fill-color);\n",
              "    }\n",
              "    80% {\n",
              "      border-color: transparent;\n",
              "      border-right-color: var(--fill-color);\n",
              "      border-bottom-color: var(--fill-color);\n",
              "    }\n",
              "    90% {\n",
              "      border-color: transparent;\n",
              "      border-bottom-color: var(--fill-color);\n",
              "    }\n",
              "  }\n",
              "</style>\n",
              "\n",
              "  <script>\n",
              "    async function quickchart(key) {\n",
              "      const quickchartButtonEl =\n",
              "        document.querySelector('#' + key + ' button');\n",
              "      quickchartButtonEl.disabled = true;  // To prevent multiple clicks.\n",
              "      quickchartButtonEl.classList.add('colab-df-spinner');\n",
              "      try {\n",
              "        const charts = await google.colab.kernel.invokeFunction(\n",
              "            'suggestCharts', [key], {});\n",
              "      } catch (error) {\n",
              "        console.error('Error during call to suggestCharts:', error);\n",
              "      }\n",
              "      quickchartButtonEl.classList.remove('colab-df-spinner');\n",
              "      quickchartButtonEl.classList.add('colab-df-quickchart-complete');\n",
              "    }\n",
              "    (() => {\n",
              "      let quickchartButtonEl =\n",
              "        document.querySelector('#df-f05d7202-1b0b-4303-b02d-aab8bf714bab button');\n",
              "      quickchartButtonEl.style.display =\n",
              "        google.colab.kernel.accessAllowed ? 'block' : 'none';\n",
              "    })();\n",
              "  </script>\n",
              "</div>\n",
              "    </div>\n",
              "  </div>\n"
            ]
          },
          "metadata": {},
          "execution_count": 18
        }
      ]
    }
  ]
}