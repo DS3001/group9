{
  "nbformat": 4,
  "nbformat_minor": 0,
  "metadata": {
    "colab": {
      "provenance": [],
      "toc_visible": true,
      "authorship_tag": "ABX9TyM/g92w+xLzgWRri2Kfg3lv",
      "include_colab_link": true
    },
    "kernelspec": {
      "name": "python3",
      "display_name": "Python 3"
    },
    "language_info": {
      "name": "python"
    }
  },
  "cells": [
    {
      "cell_type": "markdown",
      "metadata": {
        "id": "view-in-github",
        "colab_type": "text"
      },
      "source": [
        "<a href=\"https://colab.research.google.com/github/DS3001/group9/blob/main/midterm_project.ipynb\" target=\"_parent\"><img src=\"https://colab.research.google.com/assets/colab-badge.svg\" alt=\"Open In Colab\"/></a>"
      ]
    },
    {
      "cell_type": "code",
      "source": [],
      "metadata": {
        "id": "lU6XxvYwSUDh"
      },
      "execution_count": null,
      "outputs": []
    },
    {
      "cell_type": "markdown",
      "source": [
        "# Import dependencies and load data"
      ],
      "metadata": {
        "id": "vztTYu9vZc0L"
      }
    },
    {
      "cell_type": "code",
      "execution_count": 42,
      "metadata": {
        "id": "xAVe7C5haRcG"
      },
      "outputs": [],
      "source": [
        "import pandas as pd\n",
        "import numpy as np\n",
        "import seaborn as sns\n",
        "import matplotlib as plt\n",
        "\n",
        "import zipfile # for reading csv as zip"
      ]
    },
    {
      "cell_type": "code",
      "source": [
        "# zip file in git repo\n",
        "zip_path = \"/gss.csv.zip\"\n",
        "\n",
        "# Desired csv file in zip\n",
        "file_to_read = \"gss.csv\"\n",
        "\n",
        "with zipfile.ZipFile(zip_path, 'r') as zip_file:\n",
        "\n",
        "  var_list = ['pres16', 'year', 'abmoral', 'age', 'degree', 'padeg', 'madeg', 'sex', 'race', 'wrkstat', 'wrkgovt'] # List of variables to save\n",
        "  output_file = 'raw_gss_data.csv' # Name of the file to save the data to\n",
        "\n",
        "  parser = pd.read_csv(zip_file.open(file_to_read), iterator=True, chunksize=10000, low_memory=False) # Creates a parser for the whole data\n",
        "  modes = ['w','a'] # Has write mode and append mode\n",
        "  phase = 0 # Starts in write mode; after one iteration of loop, switches to append mode\n",
        "\n",
        "  for chunk in parser: # For each chunk of the data\n",
        "      print(chunk.loc[:,var_list].head()) # Visually inspect the first few rows\n",
        "      chunk.loc[:,var_list].to_csv(output_file, # specifies target file to save the chunk to\n",
        "                                  mode=modes[phase], # control write versus append\n",
        "                                  header=var_list, # variable names\n",
        "                                  index=False) # no row index saved\n",
        "      phase = 1 # Switch from write mode to append mode\n",
        "\n",
        "\n"
      ],
      "metadata": {
        "colab": {
          "base_uri": "https://localhost:8080/"
        },
        "id": "2nAVJDHBAIsd",
        "outputId": "79ff9ab5-9595-4974-be34-610ea2572116"
      },
      "execution_count": 43,
      "outputs": [
        {
          "output_type": "stream",
          "name": "stdout",
          "text": [
            "   pres16  year  abmoral   age                 degree                  padeg  \\\n",
            "0     NaN  1972      NaN  23.0             bachelor's  less than high school   \n",
            "1     NaN  1972      NaN  70.0  less than high school  less than high school   \n",
            "2     NaN  1972      NaN  48.0            high school  less than high school   \n",
            "3     NaN  1972      NaN  27.0             bachelor's             bachelor's   \n",
            "4     NaN  1972      NaN  61.0            high school  less than high school   \n",
            "\n",
            "                   madeg     sex   race            wrkstat  wrkgovt  \n",
            "0                    NaN  female  white  working full time      NaN  \n",
            "1  less than high school    male  white            retired      NaN  \n",
            "2  less than high school  female  white  working part time      NaN  \n",
            "3            high school  female  white  working full time      NaN  \n",
            "4  less than high school  female  white      keeping house      NaN  \n",
            "       pres16  year  abmoral   age                 degree  \\\n",
            "10000     NaN  1978      NaN  28.0            high school   \n",
            "10001     NaN  1978      NaN  20.0            high school   \n",
            "10002     NaN  1978      NaN  57.0            high school   \n",
            "10003     NaN  1978      NaN  20.0            high school   \n",
            "10004     NaN  1978      NaN  19.0  less than high school   \n",
            "\n",
            "                       padeg                  madeg     sex   race  \\\n",
            "10000  less than high school  less than high school  female  black   \n",
            "10001  less than high school  less than high school  female  white   \n",
            "10002  less than high school  less than high school    male  white   \n",
            "10003            high school            high school  female  white   \n",
            "10004  less than high school  less than high school    male  other   \n",
            "\n",
            "                                      wrkstat wrkgovt  \n",
            "10000                       working full time     NaN  \n",
            "10001                       working part time     NaN  \n",
            "10002                                   other     NaN  \n",
            "10003                           keeping house     NaN  \n",
            "10004  unemployed, laid off, looking for work     NaN  \n",
            "       pres16  year  abmoral   age                 degree  \\\n",
            "20000     NaN  1986      NaN  48.0  less than high school   \n",
            "20001     NaN  1986      NaN  62.0  less than high school   \n",
            "20002     NaN  1986      NaN  39.0            high school   \n",
            "20003     NaN  1986      NaN  35.0            high school   \n",
            "20004     NaN  1986      NaN  51.0            high school   \n",
            "\n",
            "                       padeg                  madeg     sex   race  \\\n",
            "20000  less than high school  less than high school  female  other   \n",
            "20001  less than high school  less than high school  female  white   \n",
            "20002                    NaN            high school  female  white   \n",
            "20003            high school                    NaN  female  white   \n",
            "20004            high school            high school    male  white   \n",
            "\n",
            "                 wrkstat  wrkgovt  \n",
            "20000      keeping house      NaN  \n",
            "20001      keeping house  private  \n",
            "20002  working full time  private  \n",
            "20003  working part time  private  \n",
            "20004  working full time  private  \n",
            "       pres16  year  abmoral   age                 degree  \\\n",
            "30000     NaN  1994      NaN  56.0  less than high school   \n",
            "30001     NaN  1994      NaN  61.0            high school   \n",
            "30002     NaN  1994      NaN  53.0            high school   \n",
            "30003     NaN  1994      NaN  27.0             bachelor's   \n",
            "30004     NaN  1994      NaN  53.0  less than high school   \n",
            "\n",
            "                       padeg                  madeg     sex   race  \\\n",
            "30000  less than high school  less than high school  female  black   \n",
            "30001                    NaN                    NaN    male  black   \n",
            "30002                    NaN                    NaN    male  black   \n",
            "30003            high school            high school  female  black   \n",
            "30004                    NaN            high school  female  black   \n",
            "\n",
            "                                      wrkstat wrkgovt  \n",
            "30000                       working part time     NaN  \n",
            "30001  unemployed, laid off, looking for work     NaN  \n",
            "30002                       working full time     NaN  \n",
            "30003                       working full time     NaN  \n",
            "30004                       working part time     NaN  \n",
            "       pres16  year  abmoral   age                 degree  \\\n",
            "40000     NaN  2000      NaN  67.0            high school   \n",
            "40001     NaN  2000      NaN  43.0            high school   \n",
            "40002     NaN  2000      NaN  19.0  less than high school   \n",
            "40003     NaN  2000      NaN  29.0             bachelor's   \n",
            "40004     NaN  2000      NaN  48.0             bachelor's   \n",
            "\n",
            "                       padeg                     madeg     sex   race  \\\n",
            "40000  less than high school     less than high school  female  white   \n",
            "40001                    NaN                       NaN  female  white   \n",
            "40002            high school                  graduate  female  white   \n",
            "40003                    NaN  associate/junior college  female  white   \n",
            "40004            high school               high school    male  white   \n",
            "\n",
            "                 wrkstat  wrkgovt  \n",
            "40000  working part time  private  \n",
            "40001  working full time  private  \n",
            "40002          in school      NaN  \n",
            "40003  working full time  private  \n",
            "40004  working full time  private  \n",
            "       pres16  year  abmoral   age                 degree        padeg  \\\n",
            "50000     NaN  2006      NaN  46.0  less than high school          NaN   \n",
            "50001     NaN  2006      NaN  38.0            high school  high school   \n",
            "50002     NaN  2006      NaN  50.0            high school          NaN   \n",
            "50003     NaN  2006      NaN  63.0  less than high school          NaN   \n",
            "50004     NaN  2006      NaN  21.0            high school  high school   \n",
            "\n",
            "             madeg     sex   race                                 wrkstat  \\\n",
            "50000  high school    male  white  unemployed, laid off, looking for work   \n",
            "50001  high school  female  white                       working full time   \n",
            "50002          NaN  female  white                           keeping house   \n",
            "50003          NaN  female  white                           keeping house   \n",
            "50004  high school  female  white                       working full time   \n",
            "\n",
            "          wrkgovt  \n",
            "50000     private  \n",
            "50001  government  \n",
            "50002     private  \n",
            "50003         NaN  \n",
            "50004     private  \n",
            "      pres16  year abmoral   age                    degree  \\\n",
            "60000    NaN  2016     NaN  49.0               high school   \n",
            "60001    NaN  2016     NaN  45.0  associate/junior college   \n",
            "60002    NaN  2016     NaN  34.0               high school   \n",
            "60003    NaN  2016     NaN  44.0                  graduate   \n",
            "60004    NaN  2016     NaN  66.0               high school   \n",
            "\n",
            "                          padeg                  madeg     sex   race  \\\n",
            "60000               high school            high school  female  white   \n",
            "60001  associate/junior college            high school  female  white   \n",
            "60002                       NaN            high school    male  black   \n",
            "60003                bachelor's  less than high school    male  other   \n",
            "60004               high school            high school  female  white   \n",
            "\n",
            "                                                 wrkstat     wrkgovt  \n",
            "60000  with a job, but not at work because of tempora...  government  \n",
            "60001                                  working full time     private  \n",
            "60002                                  working full time  government  \n",
            "60003                                  working full time  government  \n",
            "60004                                            retired  government  \n",
            "        pres16  year          abmoral   age                 degree  padeg  \\\n",
            "70000      NaN  2022              NaN  25.0             bachelor's    NaN   \n",
            "70001  clinton  2022       it depends  65.0  less than high school    NaN   \n",
            "70002      NaN  2022  morally opposed  27.0            high school    NaN   \n",
            "70003      NaN  2022              NaN  64.0            high school    NaN   \n",
            "70004  clinton  2022              NaN  68.0            high school    NaN   \n",
            "\n",
            "       madeg     sex   race            wrkstat  wrkgovt  \n",
            "70000    NaN    male  white  working full time      NaN  \n",
            "70001    NaN    male  white            retired      NaN  \n",
            "70002    NaN  female  white  working full time      NaN  \n",
            "70003    NaN    male  white            retired      NaN  \n",
            "70004    NaN  female  white            retired      NaN  \n"
          ]
        }
      ]
    },
    {
      "cell_type": "code",
      "source": [
        "# Create dataframe from 'raw_gss_data.csv' that was just written\n",
        "gss_dat = pd.read_csv(\"raw_gss_data.csv\")\n"
      ],
      "metadata": {
        "id": "qStymvbAuXyM"
      },
      "execution_count": 44,
      "outputs": []
    },
    {
      "cell_type": "markdown",
      "source": [
        "# Data cleaning and preparation"
      ],
      "metadata": {
        "id": "Sh7lo7ZDZTHd"
      }
    },
    {
      "cell_type": "code",
      "source": [
        "print(gss_dat['pres16'].value_counts())\n",
        "\n",
        "# Remove \"didn't vote for president\" and other no answer responses (see codebook)\n",
        "gss_dat = gss_dat.loc[\n",
        "    (gss_dat['pres16'] == 'clinton') |\n",
        "    (gss_dat['pres16'] == 'trump') |\n",
        "    (gss_dat['pres16'] == 'other candidate'), :]\n",
        "\n",
        "# Every entry either voted for Trump, Clinton, or other unspecified candidate\n",
        "print(gss_dat['pres16'].value_counts())\n",
        "print(gss_dat['pres16'].isnull().sum())"
      ],
      "metadata": {
        "id": "JC7h7E43WkMY",
        "outputId": "1177f64b-de8c-4ca9-a74a-2ea7716ac8a6",
        "colab": {
          "base_uri": "https://localhost:8080/"
        }
      },
      "execution_count": 35,
      "outputs": [
        {
          "output_type": "stream",
          "name": "stdout",
          "text": [
            "clinton            3390\n",
            "trump              2444\n",
            "other candidate     400\n",
            "Name: pres16, dtype: int64\n",
            "clinton            3390\n",
            "trump              2444\n",
            "other candidate     400\n",
            "Name: pres16, dtype: int64\n",
            "0\n"
          ]
        }
      ]
    },
    {
      "cell_type": "code",
      "source": [
        "gss_dat['year'].value_counts() # year data is good because of our filtering of pres16 (if they respond to having voted in 2016, they are being surveyed after 2016)\n",
        "gss_dat['year'].isnull().sum()"
      ],
      "metadata": {
        "id": "fTbnJIasWv6H",
        "outputId": "37f57ee4-4edd-43f3-ad61-8cd7c586d747",
        "colab": {
          "base_uri": "https://localhost:8080/"
        }
      },
      "execution_count": 34,
      "outputs": [
        {
          "output_type": "execute_result",
          "data": {
            "text/plain": [
              "0"
            ]
          },
          "metadata": {},
          "execution_count": 34
        }
      ]
    },
    {
      "cell_type": "code",
      "source": [
        "gss_dat['abmoral'].value_counts() # clean, can remove \"depends\" for more specific results\n",
        "gss_dat['abmoral'].isnull().sum() # so many absent values, no reason to continue with variable\n",
        "gss_dat.drop('abmoral', axis=1, inplace=True) # drop column 'abmoral' on axis 1 (column)"
      ],
      "metadata": {
        "id": "2q6G1EPXXNOa"
      },
      "execution_count": 36,
      "outputs": []
    },
    {
      "cell_type": "code",
      "source": [
        "gss_dat['age'].value_counts()\n",
        "gss_dat['age'].isnull().sum()\n",
        "gss_dat = gss_dat.loc[~gss_dat['age'].isnull(), ] # keep rows where age is NOT null\n",
        "gss_dat['age'].isnull().sum()"
      ],
      "metadata": {
        "id": "5dJsMVaHXhta",
        "outputId": "fb50ff74-7dc8-40cc-b46d-6aae31cd1698",
        "colab": {
          "base_uri": "https://localhost:8080/"
        }
      },
      "execution_count": 41,
      "outputs": [
        {
          "output_type": "execute_result",
          "data": {
            "text/plain": [
              "0"
            ]
          },
          "metadata": {},
          "execution_count": 41
        }
      ]
    },
    {
      "cell_type": "code",
      "source": [
        "gss_dat['degree'].isnull().sum()\n",
        "gss_dat['degree'].value_counts()\n",
        "gss_dat['degree'].unique() # NaN and 'degree' present\n",
        "\n",
        "gss_dat = gss_dat.loc[(~gss_dat['degree'].isnull()) & (gss_dat['degree'] != 'degree'), ] # keep rows where value for degree is not NaN or 'degree' (see codebook, NaN and 'degree' respones are invalid)\n",
        "gss_dat['degree'].unique() # all observations are now \"bachelor's\", 'less than high school', 'high school', 'graduate', or 'associate/junior college'\n",
        "\n"
      ],
      "metadata": {
        "id": "rcXxcXRHZOQQ",
        "outputId": "bd64e637-0e09-497f-ff2e-a8ab77901bb4",
        "colab": {
          "base_uri": "https://localhost:8080/"
        }
      },
      "execution_count": 58,
      "outputs": [
        {
          "output_type": "execute_result",
          "data": {
            "text/plain": [
              "array([\"bachelor's\", 'less than high school', 'high school', 'graduate',\n",
              "       'associate/junior college'], dtype=object)"
            ]
          },
          "metadata": {},
          "execution_count": 58
        }
      ]
    },
    {
      "cell_type": "code",
      "source": [
        "gss_dat['madeg'].isnull().sum()\n",
        "gss_dat['madeg'].unique() # NaNs present\n",
        "\n",
        "gss_dat = gss_dat.loc[~gss_dat['madeg'].isnull(), ] # keep rows where value for madeg is not NaN\n",
        "gss_dat['madeg'].unique() # NaNs present"
      ],
      "metadata": {
        "id": "tgtdaK9qbldz",
        "outputId": "7eefaae4-31cc-4946-f391-f38ff504e661",
        "colab": {
          "base_uri": "https://localhost:8080/"
        }
      },
      "execution_count": 62,
      "outputs": [
        {
          "output_type": "execute_result",
          "data": {
            "text/plain": [
              "array(['less than high school', 'high school', 'graduate', \"bachelor's\",\n",
              "       'associate/junior college'], dtype=object)"
            ]
          },
          "metadata": {},
          "execution_count": 62
        }
      ]
    },
    {
      "cell_type": "code",
      "source": [
        "gss_dat['padeg'].isnull().sum()\n",
        "gss_dat['padeg'].unique() # NaNs present\n",
        "\n",
        "gss_dat = gss_dat.loc[~gss_dat['padeg'].isnull(), ] # keep rows where value for padeg is not NaN\n",
        "gss_dat['padeg'].unique() # NaNs present"
      ],
      "metadata": {
        "id": "XdGTbORpcQgW",
        "outputId": "3de85729-e87d-4d1e-a654-013f71a94918",
        "colab": {
          "base_uri": "https://localhost:8080/"
        }
      },
      "execution_count": 64,
      "outputs": [
        {
          "output_type": "execute_result",
          "data": {
            "text/plain": [
              "array(['less than high school', \"bachelor's\", 'high school', 'graduate',\n",
              "       'associate/junior college'], dtype=object)"
            ]
          },
          "metadata": {},
          "execution_count": 64
        }
      ]
    },
    {
      "cell_type": "code",
      "source": [
        "gss_dat['sex'].unique() # NaN present\n",
        "gss_dat = gss_dat.loc[~gss_dat['sex'].isnull(), ] # check codebook, sex == nan does not make sense in context of survey\n",
        "gss_dat['sex'].unique()"
      ],
      "metadata": {
        "id": "HTZoiM7WcafS",
        "outputId": "cb592ecc-89de-45a8-e35a-3976b7c315b1",
        "colab": {
          "base_uri": "https://localhost:8080/"
        }
      },
      "execution_count": 71,
      "outputs": [
        {
          "output_type": "execute_result",
          "data": {
            "text/plain": [
              "array(['male', 'female'], dtype=object)"
            ]
          },
          "metadata": {},
          "execution_count": 71
        }
      ]
    },
    {
      "cell_type": "code",
      "source": [
        "gss_dat['race'].value_counts().sum()\n",
        "gss_dat = gss_dat.loc[~gss_dat['race'].isnull(), ] # keep rows where race is not null\n",
        "\n",
        "gss_dat['race'].unique()\n",
        "print(\"Proportion white:\", (gss_dat['race'] == 'white').sum() / (len(gss_dat))) # output of proportions of race in data for reference/Data write up\n",
        "print(\"Proportion black:\", (gss_dat['race'] == 'black').sum() / (len(gss_dat)))\n",
        "print(\"Proportion other than w/b:\", (gss_dat['race'] == 'other').sum() / (len(gss_dat)))"
      ],
      "metadata": {
        "id": "WmCWd4sWcxCO",
        "outputId": "bc6f709f-0f4a-43d9-c21e-1a88ed1adc16",
        "colab": {
          "base_uri": "https://localhost:8080/"
        }
      },
      "execution_count": 76,
      "outputs": [
        {
          "output_type": "stream",
          "name": "stdout",
          "text": [
            "Proportion white: 0.8422113861284283\n",
            "Proportion black: 0.10338867971112894\n",
            "Proportion other than w/b: 0.054399934160442774\n"
          ]
        }
      ]
    },
    {
      "cell_type": "code",
      "source": [
        "gss_dat = gss_dat.loc[(~gss_dat['wrkstat'].isnull()), ] # remove NaNs\n",
        "gss_dat['wrkstat'] = gss_dat['wrkstat'].replace('unemployed, laid off, looking for work', 'unemployed') # replace long string of unemployed states with 'unemployed'\n",
        "(gss_dat['wrkstat'] == 'with a job, but not at work because of temporary illness, vacation, strike').sum() # relatively few entries, annoying value\n",
        "\n",
        "gss_dat = gss_dat.loc[gss_dat['wrkstat'] != 'with a job, but not at work because of temporary illness, vacation, strike', ] # delete rows w/ this entry ^\n",
        "print(gss_dat['wrkstat'].value_counts())"
      ],
      "metadata": {
        "id": "fSzoQCtseia2",
        "outputId": "480d2d01-4744-48eb-85d7-0b1ebae6f8f6",
        "colab": {
          "base_uri": "https://localhost:8080/"
        }
      },
      "execution_count": 93,
      "outputs": [
        {
          "output_type": "stream",
          "name": "stdout",
          "text": [
            "working full time    24810\n",
            "keeping house         6951\n",
            "retired               6786\n",
            "working part time     5069\n",
            "unemployed            1574\n",
            "in school             1494\n",
            "other                  858\n",
            "Name: wrkstat, dtype: int64\n"
          ]
        }
      ]
    },
    {
      "cell_type": "code",
      "source": [
        "gss_dat = gss_dat.loc[~gss_dat['wrkstat'].isnull(), ]\n",
        "gss_dat['wrkgovt'].unique()"
      ],
      "metadata": {
        "id": "JBpoJq5lhgcq",
        "outputId": "d982bf7f-8a3e-4fba-c2f4-5c7070a9a63c",
        "colab": {
          "base_uri": "https://localhost:8080/"
        }
      },
      "execution_count": 100,
      "outputs": [
        {
          "output_type": "execute_result",
          "data": {
            "text/plain": [
              "array([nan, 'private', 'government'], dtype=object)"
            ]
          },
          "metadata": {},
          "execution_count": 100
        }
      ]
    },
    {
      "cell_type": "code",
      "source": [
        "# Function to max-min normalize data so each variables ranges from 0-1\n",
        "def maxmin(x):\n",
        "  res = (x-min(x))/(max(x)-min(x))\n",
        "  return res"
      ],
      "metadata": {
        "id": "mGRbFeVytkYO"
      },
      "execution_count": null,
      "outputs": []
    },
    {
      "cell_type": "code",
      "source": [
        "\n",
        "\n",
        "# Scatter plot grouped by sex, by age and education\n",
        "plt.scatter()"
      ],
      "metadata": {
        "id": "Bti2ZaGat3TN"
      },
      "execution_count": null,
      "outputs": []
    },
    {
      "cell_type": "code",
      "source": [
        "# Create scatterplot and run clustering on graph of __ and __ grouped by pres16"
      ],
      "metadata": {
        "id": "IEIPEnCiND_n"
      },
      "execution_count": null,
      "outputs": []
    }
  ]
}