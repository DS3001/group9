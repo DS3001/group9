{
  "nbformat": 4,
  "nbformat_minor": 0,
  "metadata": {
    "colab": {
      "provenance": [],
      "authorship_tag": "ABX9TyMai96bVBQr+/TktGIH0e4j",
      "include_colab_link": true
    },
    "kernelspec": {
      "name": "python3",
      "display_name": "Python 3"
    },
    "language_info": {
      "name": "python"
    }
  },
  "cells": [
    {
      "cell_type": "markdown",
      "metadata": {
        "id": "view-in-github",
        "colab_type": "text"
      },
      "source": [
        "<a href=\"https://colab.research.google.com/github/DS3001/group9/blob/main/midterm_project.ipynb\" target=\"_parent\"><img src=\"https://colab.research.google.com/assets/colab-badge.svg\" alt=\"Open In Colab\"/></a>"
      ]
    },
    {
      "cell_type": "code",
      "execution_count": 5,
      "metadata": {
        "id": "xAVe7C5haRcG"
      },
      "outputs": [],
      "source": [
        "import pandas as pd\n",
        "import numpy as np\n",
        "import seaborn as sns\n",
        "import matplotlib as plt\n",
        "\n",
        "import zipfile # for reading csv as zip"
      ]
    },
    {
      "cell_type": "code",
      "source": [
        "# zip file in git repo\n",
        "zip_path = \"gss.csv.zip\"\n",
        "\n",
        "# Desired csv file in zip\n",
        "file_to_read = \"gss.csv\"\n",
        "\n",
        "with zipfile.ZipFile(zip_path, 'r') as zip_file:\n",
        "\n",
        "  var_list = ['year', 'sex', 'pres16', 'race', 'wrkstat'] # List of variables to save\n",
        "  output_file = 'raw_gss_data.csv' # Name of the file to save the data to\n",
        "\n",
        "  parser = pd.read_csv(zip_file.open(file_to_read), iterator=True, chunksize=10000, low_memory=False) # Creates a parser for the whole data\n",
        "  modes = ['w','a'] # Has write mode and append mode\n",
        "  phase = 0 # Starts in write mode; after one iteration of loop, switches to append mode\n",
        "\n",
        "  for chunk in parser: # For each chunk of the data\n",
        "      print(chunk.loc[:,var_list].head()) # Visually inspect the first few rows\n",
        "      chunk.loc[:,var_list].to_csv(output_file, # specifies target file to save the chunk to\n",
        "                                  mode=modes[phase], # control write versus append\n",
        "                                  header=var_list, # variable names\n",
        "                                  index=False) # no row index saved\n",
        "      phase = 1 # Switch from write mode to append mode\n",
        "\n",
        "\n"
      ],
      "metadata": {
        "id": "2nAVJDHBAIsd",
        "outputId": "a0c93328-9ee5-4d9d-987a-433b11ce995d",
        "colab": {
          "base_uri": "https://localhost:8080/"
        }
      },
      "execution_count": 4,
      "outputs": [
        {
          "output_type": "stream",
          "name": "stdout",
          "text": [
            "   year     sex  pres16   race            wrkstat\n",
            "0  1972  female     NaN  white  working full time\n",
            "1  1972    male     NaN  white            retired\n",
            "2  1972  female     NaN  white  working part time\n",
            "3  1972  female     NaN  white  working full time\n",
            "4  1972  female     NaN  white      keeping house\n",
            "       year     sex  pres16   race                                 wrkstat\n",
            "10000  1978  female     NaN  black                       working full time\n",
            "10001  1978  female     NaN  white                       working part time\n",
            "10002  1978    male     NaN  white                                   other\n",
            "10003  1978  female     NaN  white                           keeping house\n",
            "10004  1978    male     NaN  other  unemployed, laid off, looking for work\n",
            "       year     sex  pres16   race            wrkstat\n",
            "20000  1986  female     NaN  other      keeping house\n",
            "20001  1986  female     NaN  white      keeping house\n",
            "20002  1986  female     NaN  white  working full time\n",
            "20003  1986  female     NaN  white  working part time\n",
            "20004  1986    male     NaN  white  working full time\n",
            "       year     sex  pres16   race                                 wrkstat\n",
            "30000  1994  female     NaN  black                       working part time\n",
            "30001  1994    male     NaN  black  unemployed, laid off, looking for work\n",
            "30002  1994    male     NaN  black                       working full time\n",
            "30003  1994  female     NaN  black                       working full time\n",
            "30004  1994  female     NaN  black                       working part time\n",
            "       year     sex  pres16   race            wrkstat\n",
            "40000  2000  female     NaN  white  working part time\n",
            "40001  2000  female     NaN  white  working full time\n",
            "40002  2000  female     NaN  white          in school\n",
            "40003  2000  female     NaN  white  working full time\n",
            "40004  2000    male     NaN  white  working full time\n",
            "       year     sex  pres16   race                                 wrkstat\n",
            "50000  2006    male     NaN  white  unemployed, laid off, looking for work\n",
            "50001  2006  female     NaN  white                       working full time\n",
            "50002  2006  female     NaN  white                           keeping house\n",
            "50003  2006  female     NaN  white                           keeping house\n",
            "50004  2006  female     NaN  white                       working full time\n",
            "       year     sex pres16   race  \\\n",
            "60000  2016  female    NaN  white   \n",
            "60001  2016  female    NaN  white   \n",
            "60002  2016    male    NaN  black   \n",
            "60003  2016    male    NaN  other   \n",
            "60004  2016  female    NaN  white   \n",
            "\n",
            "                                                 wrkstat  \n",
            "60000  with a job, but not at work because of tempora...  \n",
            "60001                                  working full time  \n",
            "60002                                  working full time  \n",
            "60003                                  working full time  \n",
            "60004                                            retired  \n",
            "       year     sex   pres16   race            wrkstat\n",
            "70000  2022    male      NaN  white  working full time\n",
            "70001  2022    male  clinton  white            retired\n",
            "70002  2022  female      NaN  white  working full time\n",
            "70003  2022    male      NaN  white            retired\n",
            "70004  2022  female  clinton  white            retired\n"
          ]
        }
      ]
    },
    {
      "cell_type": "code",
      "source": [
        "# Create scatterplot and run clustering on graph of __ and __ grouped by pres16"
      ],
      "metadata": {
        "id": "IEIPEnCiND_n"
      },
      "execution_count": null,
      "outputs": []
    }
  ]
}