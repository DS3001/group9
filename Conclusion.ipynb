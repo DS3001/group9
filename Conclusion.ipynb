{
  "nbformat": 4,
  "nbformat_minor": 0,
  "metadata": {
    "colab": {
      "provenance": [],
      "include_colab_link": true
    },
    "kernelspec": {
      "name": "python3",
      "display_name": "Python 3"
    },
    "language_info": {
      "name": "python"
    }
  },
  "cells": [
    {
      "cell_type": "markdown",
      "metadata": {
        "id": "view-in-github",
        "colab_type": "text"
      },
      "source": [
        "<a href=\"https://colab.research.google.com/github/DS3001/group9/blob/Combine/Conclusion.ipynb\" target=\"_parent\"><img src=\"https://colab.research.google.com/assets/colab-badge.svg\" alt=\"Open In Colab\"/></a>"
      ]
    },
    {
      "cell_type": "markdown",
      "source": [
        "Our team examined the trends and changes in voting preferences based on individuals age and income over the course of Reagan’s two terms. Additionally, we sought out to see if there were any changes in the racial biases that individuals had when prompted whether whites should have their own separate neighborhood. Our findings from our prediction models were significant. In terms of age and income, the 1980 model saw stronger prediction coefficients for those in the higher income bracket, as well as the lower ones. The higher income bracket tended to have more votes for Reagan, while those in the lower brackets voted for Carter. This trend was swept away due to Reagan’s landslide victory, one of the largest ones in history. Those that were predicted to vote Democratic did remain in the lower income brackets, however, which suggests a trend. In terms of age, one trend seen from both prediction models is that lower income individuals from ages 20-33 who were middle class displayed stronger prediction variables towards votes for Reagan. This could be due to Reagan’s economic policy, which included tax cuts and deregulation which they could have believed would lead to economic prosperity. Additionally, they could’ve seen benefit from tax cuts, which led to them to continue voting for Reagan.\n",
        "\n",
        "The “raceseg” variable gave us important insights in regards to voter preferences. We mainly found that the stronger prediction variables for who agreed to the question of a segregated all white neighborhood  in the upper income areas, who voted for Reagan. This was consistent between both figures 2 and 6, which display the “racseg” data with respect to respondent’s income and age. This can suggest that Americans with a higher income, and those associated with more conservative values are more likely to hold “racist” opinions, such as creating a space for Whites which is exclusive. This conclusion should be further examined with a broader amount of data on elections in order for it to be stronger. The biggest difference between models 2 and 6 is the absence of Democratic respondents who agreed to an all-white neighborhood. There were extremely faint blue areas in two areas in figure 6, both of which displayed weaker predictor coefficients. The other stronger prediction areas were also located in different areas of income, but they were red votes which counted towards Reagan.  For those who disagree, as displayed in figures 3 and 7,  overall the model predictions were weaker as compared to those who agree. One interesting conclusion as found in figure 3 is that the younger, higher income voters for Reagan were strongly predicted to disagree to the question of segregated neighborhoods. This was also found consistent with the 1984 data (figure 7).  This could suggest an increase in young voters holding less racial prejudice than the older voters. There are also much weaker prediction variables for Democratic voters found in model 7 (1984) model in comparison to those who disagreed in 1980. This could be due to the skew of votes for Reagan, because it is clear that there were much less Mondale voters in 1984. It also suggests a trend of increased prejudicial opinions with a more conservative, Republican figure in office.   In order to remove any bias due to Reagan’s insurmountable votes, it may be helpful to look to an election with a more even number of Democratic and Republican votes in the future as well to identify whether this is a difference of opinions within parties. However, the usage of this variable to examine our data still holds great significance in specifically depicting certain areas of income that tend to hold more prejudiced opinions.\n",
        "\n",
        "The 1984 KKN model also had some difficulty predicting some of the previous strongly Democratic voting areas on the graph. The center of the figure displayed plenty of white and weaker shaded spots for Reagan. However, this could be due to the respondent’s not changing their party vote, resulting in the weaker prediction variables of th model. There were still strong prediction variables for certain subgroups in the data. Some may argue that the insights from the “raceseg” variable were misleading, because we decided to create a data frame with only the “agree” and “disagree” columns rather than incorporating the “slightly agree/disagree” or N/A. If they slightly disagree or agree, that is still depicting that they may have a prejudiced opinion, so our decision to place their opinions in binary categories is valid.\n",
        "\n",
        "Future research could be conducted on more elections, before and after 1980 --1984. This research would illuminate broader socioeconomic/voting trends, and contextualize our prediction models. Examining other variables including voters' religous prefrences and education levels would also be interesting. There could also be a deeper analysis into the racial demogtaphics of the respondents with the raceseg variable to further analyze the answers to the \"raceseg\" variable. Though it was outside the scope of this project, other data scientists could use the GSS data to predict voting preferences in the 2024 election. These data scientists would need to include more variables and more elections to increase the predictive accuracy of their model.\n",
        "\n"
      ],
      "metadata": {
        "id": "s0iHNVEZSPRB"
      }
    },
    {
      "cell_type": "markdown",
      "source": [],
      "metadata": {
        "id": "ET5KVl57UP5n"
      }
    }
  ]
}