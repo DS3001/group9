{
  "nbformat": 4,
  "nbformat_minor": 0,
  "metadata": {
    "colab": {
      "provenance": [],
      "include_colab_link": true
    },
    "kernelspec": {
      "name": "python3",
      "display_name": "Python 3"
    },
    "language_info": {
      "name": "python"
    }
  },
  "cells": [
    {
      "cell_type": "markdown",
      "metadata": {
        "id": "view-in-github",
        "colab_type": "text"
      },
      "source": [
        "<a href=\"https://colab.research.google.com/github/DS3001/group9/blob/main/Conclusion.ipynb\" target=\"_parent\"><img src=\"https://colab.research.google.com/assets/colab-badge.svg\" alt=\"Open In Colab\"/></a>"
      ]
    },
    {
      "cell_type": "markdown",
      "source": [
        "Our team examined the trends and changes in voting preferences based on individuals’ age and income over the course of Reagan’s two terms. Additionally, we sought out to see if there were any changes in voting preferences depending on whether an individual agreed or disagreed to the question about whites having the right to a separate neighborhood.\n",
        "\n",
        "Our findings from our prediction models were significant. In terms of age and income, the 1980 model saw stronger prediction coefficients for those outside the middle class. The higher income bracket tended to have more votes for Reagan, while those in the lower brackets voted for Carter. In 1984, this trend was swept away due to Reagan’s landslide victory, one of the largest in history. This being said, the few Democratic supporters of 1984 did remain within their previous stronghold of low income Americans. In terms of age, one trend seen from both prediction models is that middle class individuals from ages 20-33 displayed stronger prediction coefficients towards votes for Reagan.\n",
        "\n",
        "The 1984 model also had some difficulty predicting some of the previous strongly Democratic voting areas on the graph. The center of the figure displayed plenty of white and weaker shaded spots for Reagan. During this unprecedented landslide election many previously democratic voters would have cast their vote for Reagan. Thus, since middle-aged, middle-class Americans were previously democratic voters, the model struggles to definitively predict this now politically segmented group for either party.\n",
        "\n",
        "Further, after adding two additional models for each election using the ‘racseg’ variable to group voters, we noticed multiple informative trends between a person’s voting habits and their racially prejudiced tendencies. One notable trend the model found was the presence of far stronger pro-Reagan prediction coefficients among high income voters within the “racist” group when compared to “non-racists.” This trend can also be attributed to Democratic votes in both elections. For those that disagreed with the question, there are particularly more areas of blue prediction coefficients compared to those that agreed. From this, we can conclude that ‘racseg’ is a strong variable in predicting the voting tendencies of certain sub-groups of individuals during these elections.\n",
        "\n",
        "One criticism of the ‘racseg’ variable that needs to be addressed is the method used to subdivide the original data frame. ‘Racseg’ was cleaned where the responses “agree slightly” and “disagree slightly” were combined with the “agree strongly” and “disagree strongly.” However, when considering this question merely as an indicator of racism, it is valid to place responses into binary buckets for prediction purposes.\n",
        "\n",
        "In the future, additional research should be conducted on more elections, before and after 1980-1984. This research would illuminate broader socioeconomic/voting trends, and contextualize our prediction models. Examining other variables including voters' religious preferences and education levels would also be interesting. Though it was outside the scope of this project, other data scientists could use the GSS data to predict voting preferences in the 2024 election. These data scientists would need to include more variables and more elections to increase the predictive accuracy of their model.\n",
        "\n"
      ],
      "metadata": {
        "id": "s0iHNVEZSPRB"
      }
    }
  ]
}