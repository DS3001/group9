{
  "nbformat": 4,
  "nbformat_minor": 0,
  "metadata": {
    "colab": {
      "provenance": [],
      "include_colab_link": true
    },
    "kernelspec": {
      "name": "python3",
      "display_name": "Python 3"
    },
    "language_info": {
      "name": "python"
    }
  },
  "cells": [
    {
      "cell_type": "markdown",
      "metadata": {
        "id": "view-in-github",
        "colab_type": "text"
      },
      "source": [
        "<a href=\"https://colab.research.google.com/github/DS3001/group9/blob/main/Conclusion.ipynb\" target=\"_parent\"><img src=\"https://colab.research.google.com/assets/colab-badge.svg\" alt=\"Open In Colab\"/></a>"
      ]
    },
    {
      "cell_type": "markdown",
      "source": [
        "Our team examined the trends and changes in voting preferences based on individuals age and income over the course of Reagan’s two terms. Additionally, we sought out to see if there were any changes in the racial biases that individuals had when prompted whether whites should have their own separate neighborhood. Our findings from our prediction models were significant- in terms of age and income, the 1980 model saw stronger prediction coefficients for those in the higher income bracket, as well as the lower ones. The higher income bracket tended to have more votes for Reagan, while those in the lower brackets voted for Carter. This trend was swept away due to Reagan’s landslide victory, one of the largest ones in history. Those that were predicted to vote Democratic did remain in the lower income brackets, however, which suggests a trend. In terms of age, one trend seen from both prediction models is that lower income individuals from ages 20-33 who were middle class displayed stronger prediction variables towards votes for Reagan. This could be due to Reagan’s economic policy, which included tax cuts and deregulation which they could have believed would lead to economic prosperity. Additionally, they could’ve seen benefit from tax cuts, which led to them to continue voting for Reagan.\n",
        "\n",
        "While examining the “raceseg” variable, there were plenty of interesting results when placed into the prediction model with income and age.\n"
      ],
      "metadata": {
        "id": "s0iHNVEZSPRB"
      }
    }
  ]
}