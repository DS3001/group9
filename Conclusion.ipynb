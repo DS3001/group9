{
  "nbformat": 4,
  "nbformat_minor": 0,
  "metadata": {
    "colab": {
      "provenance": [],
      "include_colab_link": true
    },
    "kernelspec": {
      "name": "python3",
      "display_name": "Python 3"
    },
    "language_info": {
      "name": "python"
    }
  },
  "cells": [
    {
      "cell_type": "markdown",
      "metadata": {
        "id": "view-in-github",
        "colab_type": "text"
      },
      "source": [
        "<a href=\"https://colab.research.google.com/github/DS3001/group9/blob/Combine/Conclusion.ipynb\" target=\"_parent\"><img src=\"https://colab.research.google.com/assets/colab-badge.svg\" alt=\"Open In Colab\"/></a>"
      ]
    },
    {
      "cell_type": "markdown",
      "source": [
        "Our team examined the trends and changes in voting preferences based on individuals age and income over the course of Reagan’s two terms. Additionally, we sought out to see if there were any changes in the racial biases that individuals had when prompted whether whites should have their own separate neighborhood. Our findings from our prediction models were significant. In terms of age and income, the 1980 model saw stronger prediction coefficients for those in the higher income bracket, as well as the lower ones. The higher income bracket tended to have more votes for Reagan, while those in the lower brackets voted for Carter. This trend was swept away due to Reagan’s landslide victory, one of the largest ones in history. Those that were predicted to vote Democratic did remain in the lower income brackets, however, which suggests a trend. In terms of age, one trend seen from both prediction models is that lower income individuals from ages 20-33 who were middle class displayed stronger prediction variables towards votes for Reagan. This could be due to Reagan’s economic policy, which included tax cuts and deregulation which they could have believed would lead to economic prosperity. Additionally, they could’ve seen benefit from tax cuts, which led to them to continue voting for Reagan.\n",
        "\n",
        "The 1984 KKN model also had some difficulty predicting some of the previous strongly Democratic voting areas on the graph. The center of the figure displayed plenty of white and weaker shaded spots for Reagan. However, this could be due to the respondent’s not changing their party vote, resulting in the weaker prediction variables of th model. There were still strong prediction variables for certain subgroups in the data. Some may argue that the insights from the “raceseg” variable were misleading, because we decided to create a data frame with only the “agree” and “disagree” columns rather than incorporating the “slightly agree/disagree” or N/A. If they slightly disagree or agree, that is still depicting that they may have a prejudiced opinion, so our decision to place their opinions in binary categories is valid.\n",
        "\n",
        "Future research could be conducted on more elections, before and after 1980 --1984. This research would illuminate broader socioeconomic/voting trends, and contextualize our prediction models. Examining other variables including voters' religous prefrences and education levels would also be interesting. Though it was outside the scope of this project, other data scientists could use the GSS data to predict voting preferences in the 2024 election. These data scientists would need to include more variables and more elections to increase the predictive accuracy of their model.\n",
        "\n"
      ],
      "metadata": {
        "id": "s0iHNVEZSPRB"
      }
    },
    {
      "cell_type": "markdown",
      "source": [],
      "metadata": {
        "id": "ET5KVl57UP5n"
      }
    }
  ]
}